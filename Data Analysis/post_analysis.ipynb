{
 "cells": [
  {
   "cell_type": "code",
   "execution_count": 5,
   "id": "5534fe17-3595-4e7c-b177-6001e1ffd004",
   "metadata": {},
   "outputs": [],
   "source": [
    "import sqlite3, io,tqdm\n",
    "import pandas as pd\n",
    "import matplotlib.pyplot as plt\n",
    "import numpy as np\n",
    "import csv\n",
    "import nltk\n",
    "from nltk.corpus import stopwords\n",
    "stop_words = stopwords.words('english')\n",
    "from sklearn.metrics.pairwise import cosine_similarity\n",
    "import networkx as nx\n",
    "from sknetwork.ranking import PageRank\n",
    "import statsmodels.stats.proportion as smp\n",
    "from scipy import spatial\n",
    "from sklearn.manifold import TSNE\n",
    "from sklearn.cluster import AgglomerativeClustering\n",
    "from sklearn.cluster import HDBSCAN\n",
    "from collections import Counter\n",
    "from scipy.cluster.hierarchy import dendrogram\n",
    "from sklearn.cluster import DBSCAN\n",
    "from scipy.spatial.distance import cdist\n",
    "from sklearn.cluster import AgglomerativeClustering"
   ]
  },
  {
   "cell_type": "code",
   "execution_count": 6,
   "id": "4e858160-c18e-41e0-8f48-622ffe321618",
   "metadata": {},
   "outputs": [
    {
     "name": "stdout",
     "output_type": "stream",
     "text": [
      "/opt/anaconda3/envs/tensorflow/bin/python\n"
     ]
    }
   ],
   "source": [
    "import sys\n",
    "print(sys.executable)"
   ]
  },
  {
   "cell_type": "code",
   "execution_count": 7,
   "id": "81896765-9b5d-4df4-9cc8-6965bce54553",
   "metadata": {},
   "outputs": [],
   "source": [
    "import contractions"
   ]
  },
  {
   "cell_type": "markdown",
   "id": "cc87b1c5-529c-4948-83cb-721dce2565d0",
   "metadata": {},
   "source": [
    "# Extract Data"
   ]
  },
  {
   "cell_type": "code",
   "execution_count": 8,
   "id": "cb5487ca-4bf8-42f1-945b-f3c0aff39382",
   "metadata": {},
   "outputs": [],
   "source": [
    "sql_db_path = 'SubredditData.db'"
   ]
  },
  {
   "cell_type": "code",
   "execution_count": 9,
   "id": "90714c86-3fcb-428e-8cec-4aa53af27544",
   "metadata": {},
   "outputs": [],
   "source": [
    "connection = sqlite3.connect('SubredditData.db')\n",
    "cursor = connection.cursor()"
   ]
  },
  {
   "cell_type": "code",
   "execution_count": 10,
   "id": "7c1e7917-f8b8-4b1e-9242-757fca5319a0",
   "metadata": {},
   "outputs": [
    {
     "name": "stdout",
     "output_type": "stream",
     "text": [
      "Number of tables: 850\n"
     ]
    }
   ],
   "source": [
    "cursor.execute(\"SELECT name FROM sqlite_master WHERE type='table';\")\n",
    "tables = cursor.fetchall()\n",
    "print(f\"Number of tables: {len(tables)}\")"
   ]
  },
  {
   "cell_type": "code",
   "execution_count": 11,
   "id": "628206db-6ddc-4275-b618-20c76353de70",
   "metadata": {},
   "outputs": [],
   "source": [
    "df = pd.read_sql_query(\"SELECT * FROM AmItheAsshole\", connection)"
   ]
  },
  {
   "cell_type": "code",
   "execution_count": 12,
   "id": "5b0bf675-8cd8-4fb4-a700-c6151e951d86",
   "metadata": {},
   "outputs": [
    {
     "data": {
      "text/plain": [
       "<bound method NDFrame.describe of         post_id                                                url  \\\n",
       "0    t3_1h2ck8c  https://www.reddit.com/r/AmItheAsshole/comment...   \n",
       "1    t3_1h2ck07  https://www.reddit.com/r/AmItheAsshole/comment...   \n",
       "2    t3_1h2cjzc  https://www.reddit.com/r/AmItheAsshole/comment...   \n",
       "3    t3_1h2cd6o  https://www.reddit.com/r/AmItheAsshole/comment...   \n",
       "4    t3_1h2c71b  https://www.reddit.com/r/AmItheAsshole/comment...   \n",
       "..          ...                                                ...   \n",
       "844  t3_1h3xp79  https://www.reddit.com/r/AmItheAsshole/comment...   \n",
       "845  t3_1h3xjkp  https://www.reddit.com/r/AmItheAsshole/comment...   \n",
       "846  t3_1h3xdsr  https://www.reddit.com/r/AmItheAsshole/comment...   \n",
       "847  t3_1h3wnsj  https://www.reddit.com/r/AmItheAsshole/comment...   \n",
       "848  t3_1h3weyp  https://www.reddit.com/r/AmItheAsshole/comment...   \n",
       "\n",
       "     comment_count                created_timestamp title  ups  \\\n",
       "0                2  2024-11-29T03:22:11.159000+0000  None    1   \n",
       "1                2  2024-11-29T03:21:49.348000+0000  None    1   \n",
       "2                4  2024-11-29T03:21:46.164000+0000  None    1   \n",
       "3                4  2024-11-29T03:10:16.423000+0000  None    0   \n",
       "4                8  2024-11-29T03:00:11.148000+0000  None    5   \n",
       "..             ...                              ...   ...  ...   \n",
       "844             43  2024-12-01T07:06:15.591000+0000  None    0   \n",
       "845             25  2024-12-01T06:55:40.464000+0000  None    5   \n",
       "846             11  2024-12-01T06:44:37.778000+0000  None    5   \n",
       "847             25  2024-12-01T05:57:43.352000+0000  None   30   \n",
       "848              1  2024-12-01T05:42:35.982000+0000  None    1   \n",
       "\n",
       "                   author                                       text_content  \\\n",
       "0              Lexlan2012  b' Hello Reddit! Ok so a few days ago my aunt ...   \n",
       "1            Living_Ad863  b\" Boyfriend, friend, and I went to a bar to c...   \n",
       "2    ThrowRAthanksgivingb  b' I (34F) hosted Thanksgiving this year for m...   \n",
       "3           Severe_Camp14  b' i used chat gpt btw since i suck at storyte...   \n",
       "4             Any_Ad_5439  b' My fiance (31m) and his friend (31m) are bo...   \n",
       "..                    ...                                                ...   \n",
       "844              Risco_61  b' I(M33) suggested earlier today for my wife ...   \n",
       "845      Standard-Ad-9216  b' This is going to be kind of long, but I\\xe2...   \n",
       "846  CommandOtherwise1350  b' My partner (F, 20) and I (M, 20) were chatt...   \n",
       "847               AITAMod  b\" Keep things civil. Rules still apply. Last ...   \n",
       "848             Luna_Noel  b' Me (21F) and my sister (19F) both have Star...   \n",
       "\n",
       "                                            post_title  \n",
       "0    AITA for offering to buy my aunt a birthday gi...  \n",
       "1    AITAH for calling my boyfriend and friend @$$h...  \n",
       "2    AITA for Refusing to Let My Brother's New Girl...  \n",
       "3    AITA for making my uncle walk away from dinner...  \n",
       "4    AITA for flipping out on my fiance for smoking...  \n",
       "..                                                 ...  \n",
       "844                     AITA for farting in the bath?   \n",
       "845  AITA for prioritizing my health over my husban...  \n",
       "846         AITA cause changing my answer about my Ex.  \n",
       "847  AITA Monthly Open Forum December 2024: A Holid...  \n",
       "848           AITA for refusing to pay my sister back?  \n",
       "\n",
       "[849 rows x 9 columns]>"
      ]
     },
     "execution_count": 12,
     "metadata": {},
     "output_type": "execute_result"
    }
   ],
   "source": [
    "df.describe"
   ]
  },
  {
   "cell_type": "code",
   "execution_count": 13,
   "id": "eaaf4706-147e-4f70-8957-53c7abf3d010",
   "metadata": {},
   "outputs": [
    {
     "data": {
      "text/plain": [
       "'https://www.reddit.com/r/AmItheAsshole/comments/1h2ck8c/aita_for_offering_to_buy_my_aunt_a_birthday_gift/'"
      ]
     },
     "execution_count": 13,
     "metadata": {},
     "output_type": "execute_result"
    }
   ],
   "source": [
    "df.iloc[0][\"url\"]"
   ]
  },
  {
   "cell_type": "markdown",
   "id": "7371d971-9b7d-4a92-a962-1dbb742e7388",
   "metadata": {},
   "source": [
    "# Process Post Text Content"
   ]
  },
  {
   "cell_type": "code",
   "execution_count": 14,
   "id": "acdbd6c5-0e91-4eb1-9763-3d0b91c2c613",
   "metadata": {},
   "outputs": [],
   "source": [
    "import re, string, random"
   ]
  },
  {
   "cell_type": "code",
   "execution_count": 15,
   "id": "fae9c491-5dc8-42d8-959a-64b15b684d15",
   "metadata": {},
   "outputs": [],
   "source": [
    "posts_texts = df['text_content'].tolist()\n"
   ]
  },
  {
   "cell_type": "code",
   "execution_count": 16,
   "id": "cdcee752-7a6d-4fd1-9554-81073322a0c3",
   "metadata": {},
   "outputs": [],
   "source": [
    "def  all_sentences_one_list(posts_texts):\n",
    "    all_texts = []\n",
    "    for post_text in posts_texts:\n",
    "        split_text = re.split('[!?.]', post_text.decode('utf-8'))\n",
    "        for new_sentence in split_text:\n",
    "            new_sentence = new_sentence.strip()\n",
    "            new_sentence = contractions.fix(new_sentence)\n",
    "            if new_sentence:\n",
    "                all_texts.append(new_sentence)  \n",
    "    return all_texts"
   ]
  },
  {
   "cell_type": "code",
   "execution_count": 17,
   "id": "0b7b076b-723a-419e-98dd-f4b75392a7e2",
   "metadata": {},
   "outputs": [],
   "source": [
    "all_texts = all_sentences_one_list(posts_texts)"
   ]
  },
  {
   "cell_type": "code",
   "execution_count": 45,
   "id": "b4949c55-eb1d-41c4-bd5d-a13f13251809",
   "metadata": {},
   "outputs": [
    {
     "name": "stdout",
     "output_type": "stream",
     "text": [
      "341835\n"
     ]
    }
   ],
   "source": [
    "def clean_1text_(sentences):\n",
    "    all_word_tokens = []\n",
    "    tokenized_sentences = []\n",
    "    all_texts = []\n",
    "    for s in sentences:\n",
    "        s = s.strip()  \n",
    "        s = contractions.fix(s)\n",
    "        s = re.sub(r'\\d+','',s).strip()        \n",
    "        s = re.sub(r'[!?():;,\\'\".]', '', s)\n",
    "        \n",
    "        s = s.lower()       \n",
    "        for w in s.split():\n",
    "            if w:\n",
    "                all_word_tokens.append(w)\n",
    "        all_texts.append(s)\n",
    "        s = [w for w in s.split()]\n",
    "        \n",
    "        tokenized_sentences.append(s)\n",
    "    return tokenized_sentences, all_word_tokens, all_texts\n",
    "tokenized_sentences, all_word_tokens, all_texts = clean_1text_(all_texts)"
   ]
  },
  {
   "cell_type": "code",
   "execution_count": null,
   "id": "700a08c8-c930-49bd-8148-625323dc573f",
   "metadata": {},
   "outputs": [],
   "source": [
    "tokenized_sentences"
   ]
  },
  {
   "cell_type": "code",
   "execution_count": null,
   "id": "a6fc7afd-6851-4820-944c-62d8c524d51f",
   "metadata": {},
   "outputs": [],
   "source": [
    "print(f\"Tokens_vocab, unique words in a list #: {len(tokens_for_vocab)}\")\n",
    "print(f\"Tokens, tokenized words inside list of list of sentences #: {len(tokenized_sentences)}\")"
   ]
  },
  {
   "cell_type": "code",
   "execution_count": 19,
   "id": "6a792469-1ac0-4dd9-a1bb-ca6adf1549da",
   "metadata": {},
   "outputs": [
    {
     "name": "stdout",
     "output_type": "stream",
     "text": [
      "Vocab size: 12482\n"
     ]
    }
   ],
   "source": [
    "vocab, index = {}, 1  # start indexing from 1\n",
    "vocab['<pad>'] = 0  # add a padding token\n",
    "for token in all_word_tokens:\n",
    "  if token not in vocab:\n",
    "    vocab[token] = index\n",
    "    index += 1\n",
    "vocab_size = len(vocab)\n",
    "inverse_vocab = {index: token for token, index in vocab.items()}\n",
    "print(f\"Vocab size: {vocab_size}\")"
   ]
  },
  {
   "cell_type": "markdown",
   "id": "7e8c7d57-5c9b-448a-9432-ea9171b81644",
   "metadata": {},
   "source": [
    "# Gender & Age"
   ]
  },
  {
   "cell_type": "code",
   "execution_count": 216,
   "id": "6ddfc482-f38e-4740-b689-9816c44ab72c",
   "metadata": {},
   "outputs": [
    {
     "name": "stdout",
     "output_type": "stream",
     "text": [
      "849\n"
     ]
    }
   ],
   "source": [
    "post_text_content_ =df[\"text_content\"]\n",
    "numbers =[]\n",
    "j=0\n",
    "for s in post_text_content_:\n",
    "    \n",
    "    s = s.decode('utf-8')\n",
    "    n = re.findall(r'(\\D{0,4})(\\d+)(\\D{0,3})', s)\n",
    " \n",
    "    if n:\n",
    "        instance = []\n",
    "        cleaner_instance = []\n",
    "\n",
    "        for n_i in n:\n",
    "            \n",
    "            before, number, after = n_i\n",
    "            \n",
    "            if 'f' in after.lower():\n",
    "                after = 'F'\n",
    "            elif 'm' in after.lower():\n",
    "                after = 'M'     \n",
    "            elif 'f' in before.lower():\n",
    "                after = 'F'\n",
    "            elif 'm' in before.lower():\n",
    "                after = 'M'\n",
    "            else:\n",
    "                after = ''\n",
    "\n",
    "            \n",
    "            number = int(number)\n",
    "            number = number if number < 90 and number > 13 else None\n",
    "            if ('me' in before.lower() or 'i' in before.lower()) and not instance:\n",
    "                instance = [number, after]\n",
    "            else:\n",
    "                cleaner_instance.append([number, after])\n",
    "        if not instance:\n",
    "       \n",
    "            for c_i in cleaner_instance:\n",
    "                \n",
    "                if c_i[0] is not None:\n",
    "                    instance = c_i\n",
    "\n",
    "        \n",
    "        if not instance:\n",
    "            instance = cleaner_instance[0]\n",
    "            \n",
    "        if instance[0] is None:\n",
    "            instance[1]=None  \n",
    "                        \n",
    "        numbers.append(instance) \n",
    "        \n",
    "    else:\n",
    "        numbers.append([None,None])\n",
    "        \n",
    "    j += 1\n",
    "print(len(numbers))"
   ]
  },
  {
   "cell_type": "code",
   "execution_count": 217,
   "id": "f6f54f73-2ff6-4fee-9d4c-2b496ae740b9",
   "metadata": {},
   "outputs": [],
   "source": [
    "gender_age = pd.DataFrame(numbers, columns=[\"Age\",\"Gender\"])\n",
    "pd.set_option('display.max_colwidth', None)\n",
    "\n",
    "gender_age['url'] = df['url']\n",
    "# print(gender_age.head(20))\n",
    "pd.reset_option('display.max_colwidth')"
   ]
  },
  {
   "cell_type": "code",
   "execution_count": 218,
   "id": "d7777d75-81a2-4497-ab01-4d9a3b533e83",
   "metadata": {},
   "outputs": [
    {
     "name": "stdout",
     "output_type": "stream",
     "text": [
      "113        https://www.reddit.com/r/AmItheAsshole/comments/1h0l30n/aita_for_telling_my_friend_im_not_having_this/\n",
      "159          https://www.reddit.com/r/AmItheAsshole/comments/1h04b36/aita_for_not_letting_my_brother_get_his_way/\n",
      "162     https://www.reddit.com/r/AmItheAsshole/comments/1gzwdpg/aita_for_ruining_my_brothers_childhood_memory_by/\n",
      "273                         https://www.reddit.com/r/AmItheAsshole/comments/1h3pkv4/aita_for_not_going_to_church/\n",
      "279     https://www.reddit.com/r/AmItheAsshole/comments/1h3o3ol/aita_for_telling_my_mom_what_to_do_with_her_life/\n",
      "475    https://www.reddit.com/r/AmItheAsshole/comments/1gsgz4y/aita_for_being_sarcastic_when_my_stepmother_asked/\n",
      "493    https://www.reddit.com/r/AmItheAsshole/comments/1h1vp4r/aita_for_telling_my_parents_their_marriage_is_sad/\n",
      "569          https://www.reddit.com/r/AmItheAsshole/comments/1h6t6m7/aitah_for_telling_my_stepmother_to_fuck_off/\n",
      "659                       https://www.reddit.com/r/AmItheAsshole/comments/1h5us15/aita_for_cursing_out_my_cousin/\n",
      "699       https://www.reddit.com/r/AmItheAsshole/comments/1h5bvgg/aita_for_bothering_my_mom_about_christmas_even/\n",
      "740     https://www.reddit.com/r/AmItheAsshole/comments/1h4skqb/aita_for_secretly_calling_into_her_office_to_spy/\n",
      "773                       https://www.reddit.com/r/AmItheAsshole/comments/1h4jrb0/aita_for_yelling_at_my_brother/\n",
      "Name: url, dtype: object\n"
     ]
    },
    {
     "data": {
      "text/plain": [
       "113    14.0\n",
       "159    14.0\n",
       "162    14.0\n",
       "273    14.0\n",
       "279    14.0\n",
       "475    14.0\n",
       "493    14.0\n",
       "569    14.0\n",
       "659    14.0\n",
       "699    14.0\n",
       "740    14.0\n",
       "773    14.0\n",
       "Name: Age, dtype: float64"
      ]
     },
     "execution_count": 218,
     "metadata": {},
     "output_type": "execute_result"
    }
   ],
   "source": [
    "pd.set_option('display.max_colwidth', None)\n",
    "print(gender_age[gender_age[\"Age\"] < 15][\"url\"])\n",
    "gender_age[gender_age[\"Age\"] < 15][\"Age\"]"
   ]
  },
  {
   "cell_type": "code",
   "execution_count": 219,
   "id": "7214638c-00ab-4b15-8964-8601749abbe5",
   "metadata": {},
   "outputs": [
    {
     "data": {
      "text/html": [
       "<div>\n",
       "<style scoped>\n",
       "    .dataframe tbody tr th:only-of-type {\n",
       "        vertical-align: middle;\n",
       "    }\n",
       "\n",
       "    .dataframe tbody tr th {\n",
       "        vertical-align: top;\n",
       "    }\n",
       "\n",
       "    .dataframe thead th {\n",
       "        text-align: right;\n",
       "    }\n",
       "</style>\n",
       "<table border=\"1\" class=\"dataframe\">\n",
       "  <thead>\n",
       "    <tr style=\"text-align: right;\">\n",
       "      <th></th>\n",
       "      <th>Age</th>\n",
       "      <th>Gender</th>\n",
       "      <th>url</th>\n",
       "    </tr>\n",
       "  </thead>\n",
       "  <tbody>\n",
       "    <tr>\n",
       "      <th>2</th>\n",
       "      <td>34.0</td>\n",
       "      <td>F</td>\n",
       "      <td>https://www.reddit.com/r/AmItheAsshole/comments/1h2cjzc/aita_for_refusing_to_let_my_brothers_new/</td>\n",
       "    </tr>\n",
       "    <tr>\n",
       "      <th>3</th>\n",
       "      <td>17.0</td>\n",
       "      <td>F</td>\n",
       "      <td>https://www.reddit.com/r/AmItheAsshole/comments/1h2cd6o/aita_for_making_my_uncle_walk_away_from_dinner/</td>\n",
       "    </tr>\n",
       "    <tr>\n",
       "      <th>5</th>\n",
       "      <td>25.0</td>\n",
       "      <td>F</td>\n",
       "      <td>https://www.reddit.com/r/AmItheAsshole/comments/1h2bxzj/aita_for_having_boundaries_regarding_guests_with/</td>\n",
       "    </tr>\n",
       "    <tr>\n",
       "      <th>6</th>\n",
       "      <td>20.0</td>\n",
       "      <td>F</td>\n",
       "      <td>https://www.reddit.com/r/AmItheAsshole/comments/1h2bvul/wibta_for_telling_my_online_friend_20m_this_is/</td>\n",
       "    </tr>\n",
       "    <tr>\n",
       "      <th>13</th>\n",
       "      <td>15.0</td>\n",
       "      <td>F</td>\n",
       "      <td>https://www.reddit.com/r/AmItheAsshole/comments/1h2at9k/wibta_if_i_stopped_being_respectful_and_quiet_to/</td>\n",
       "    </tr>\n",
       "    <tr>\n",
       "      <th>...</th>\n",
       "      <td>...</td>\n",
       "      <td>...</td>\n",
       "      <td>...</td>\n",
       "    </tr>\n",
       "    <tr>\n",
       "      <th>831</th>\n",
       "      <td>27.0</td>\n",
       "      <td>F</td>\n",
       "      <td>https://www.reddit.com/r/AmItheAsshole/comments/1h41obf/aita_for_doubting_my_mentally_ill_boyfriend/</td>\n",
       "    </tr>\n",
       "    <tr>\n",
       "      <th>834</th>\n",
       "      <td>19.0</td>\n",
       "      <td>F</td>\n",
       "      <td>https://www.reddit.com/r/AmItheAsshole/comments/1h40elo/aita_for_trying_to_help_an_injured_friend/</td>\n",
       "    </tr>\n",
       "    <tr>\n",
       "      <th>841</th>\n",
       "      <td>25.0</td>\n",
       "      <td>F</td>\n",
       "      <td>https://www.reddit.com/r/AmItheAsshole/comments/1h3yhsi/aita_for_asking_my_parents_to_wait_till_they/</td>\n",
       "    </tr>\n",
       "    <tr>\n",
       "      <th>843</th>\n",
       "      <td>18.0</td>\n",
       "      <td>F</td>\n",
       "      <td>https://www.reddit.com/r/AmItheAsshole/comments/1h3xphh/aita_for_telling_my_friend_he_doesnt_have_adhd/</td>\n",
       "    </tr>\n",
       "    <tr>\n",
       "      <th>848</th>\n",
       "      <td>21.0</td>\n",
       "      <td>F</td>\n",
       "      <td>https://www.reddit.com/r/AmItheAsshole/comments/1h3weyp/aita_for_refusing_to_pay_my_sister_back/</td>\n",
       "    </tr>\n",
       "  </tbody>\n",
       "</table>\n",
       "<p>284 rows × 3 columns</p>\n",
       "</div>"
      ],
      "text/plain": [
       "      Age Gender  \\\n",
       "2    34.0      F   \n",
       "3    17.0      F   \n",
       "5    25.0      F   \n",
       "6    20.0      F   \n",
       "13   15.0      F   \n",
       "..    ...    ...   \n",
       "831  27.0      F   \n",
       "834  19.0      F   \n",
       "841  25.0      F   \n",
       "843  18.0      F   \n",
       "848  21.0      F   \n",
       "\n",
       "                                                                                                           url  \n",
       "2            https://www.reddit.com/r/AmItheAsshole/comments/1h2cjzc/aita_for_refusing_to_let_my_brothers_new/  \n",
       "3      https://www.reddit.com/r/AmItheAsshole/comments/1h2cd6o/aita_for_making_my_uncle_walk_away_from_dinner/  \n",
       "5    https://www.reddit.com/r/AmItheAsshole/comments/1h2bxzj/aita_for_having_boundaries_regarding_guests_with/  \n",
       "6      https://www.reddit.com/r/AmItheAsshole/comments/1h2bvul/wibta_for_telling_my_online_friend_20m_this_is/  \n",
       "13   https://www.reddit.com/r/AmItheAsshole/comments/1h2at9k/wibta_if_i_stopped_being_respectful_and_quiet_to/  \n",
       "..                                                                                                         ...  \n",
       "831       https://www.reddit.com/r/AmItheAsshole/comments/1h41obf/aita_for_doubting_my_mentally_ill_boyfriend/  \n",
       "834         https://www.reddit.com/r/AmItheAsshole/comments/1h40elo/aita_for_trying_to_help_an_injured_friend/  \n",
       "841      https://www.reddit.com/r/AmItheAsshole/comments/1h3yhsi/aita_for_asking_my_parents_to_wait_till_they/  \n",
       "843    https://www.reddit.com/r/AmItheAsshole/comments/1h3xphh/aita_for_telling_my_friend_he_doesnt_have_adhd/  \n",
       "848           https://www.reddit.com/r/AmItheAsshole/comments/1h3weyp/aita_for_refusing_to_pay_my_sister_back/  \n",
       "\n",
       "[284 rows x 3 columns]"
      ]
     },
     "execution_count": 219,
     "metadata": {},
     "output_type": "execute_result"
    }
   ],
   "source": [
    "gender_age[(gender_age[\"Age\"].notnull()) & (gender_age[\"Gender\"] == \"F\")]"
   ]
  },
  {
   "cell_type": "code",
   "execution_count": 220,
   "id": "76ce6795-a6a7-4a78-952f-29cbd9c1e524",
   "metadata": {},
   "outputs": [
    {
     "name": "stdout",
     "output_type": "stream",
     "text": [
      "% of Users that declared Gender:  0.6478209658421673\n",
      "% of Users that declared Gender:  0.6478209658421673\n"
     ]
    },
    {
     "data": {
      "text/plain": [
       "([<matplotlib.axis.XTick at 0x3a5f71fa0>,\n",
       "  <matplotlib.axis.XTick at 0x3a5f72ea0>],\n",
       " [Text(1, 0, 'F'), Text(2, 0, 'M')])"
      ]
     },
     "execution_count": 220,
     "metadata": {},
     "output_type": "execute_result"
    },
    {
     "data": {
      "image/png": "[encoded data removed]",
      "text/plain": [
       "<Figure size 640x480 with 1 Axes>"
      ]
     },
     "metadata": {},
     "output_type": "display_data"
    }
   ],
   "source": [
    "nonnull_gender = gender_age[\"Gender\"].notnull().sum()\n",
    "nonnull_age = gender_age[\"Age\"].notnull().sum()\n",
    "print(\"% of Users that declared Gender: \", nonnull_gender/len(numbers))\n",
    "print(\"% of Users that declared Gender: \", nonnull_age/len(numbers))\n",
    "female = gender_age[(gender_age[\"Age\"].notnull()) & (gender_age[\"Gender\"] == \"F\")][\"Age\"]\n",
    "male = gender_age[(gender_age[\"Age\"].notnull()) & (gender_age[\"Gender\"] == \"M\")][\"Age\"]\n",
    "plt.title(\"Age Distribution by Gender\")\n",
    "plt.boxplot([female,male], positions=[1,2])\n",
    "plt.xticks([1,2],['F','M'])"
   ]
  },
  {
   "cell_type": "code",
   "execution_count": 221,
   "id": "e2623538-6fc7-4d29-9a2b-d92b5569fb86",
   "metadata": {},
   "outputs": [],
   "source": [
    "gender_age.head(5)\n",
    "gender_age.to_csv('gender_age.csv',index=False)"
   ]
  },
  {
   "cell_type": "markdown",
   "id": "77c91b85-fbe6-4943-a54d-0d38c35597cc",
   "metadata": {},
   "source": [
    "# Post Score"
   ]
  },
  {
   "cell_type": "markdown",
   "id": "56cda528-f0e1-4094-9b7d-2ee6187cd3a3",
   "metadata": {},
   "source": [
    "Ups it nominal I think"
   ]
  },
  {
   "cell_type": "code",
   "execution_count": 28,
   "id": "11fafdf0-3573-4efd-a129-5e3b9972ceb0",
   "metadata": {},
   "outputs": [],
   "source": [
    "score_col = df['ups']"
   ]
  },
  {
   "cell_type": "code",
   "execution_count": 29,
   "id": "e1a01aab-4c48-4c18-b082-596330646c0d",
   "metadata": {},
   "outputs": [
    {
     "name": "stdout",
     "output_type": "stream",
     "text": [
      "Length of ups: 849\n",
      "Mean of ups: 1261.5170789163722\n",
      "Median of ups: 12.0\n",
      "First Quantile: 1.0\n",
      "50th Percentile: 12.0\n",
      "75th Percentile: 692.0\n",
      "IQR: 691.0\n"
     ]
    }
   ],
   "source": [
    "print(f\"Length of ups: {len(score_col)}\")\n",
    "print(f\"Mean of ups: {score_col.mean()}\")\n",
    "print(f\"Median of ups: {score_col.median()}\")\n",
    "print(f\"First Quantile: {score_col.quantile(0.25)}\")\n",
    "print(f\"50th Percentile: {score_col.quantile(0.5)}\")\n",
    "print(f\"75th Percentile: {score_col.quantile(0.75)}\")\n",
    "q3 = score_col.quantile(0.75)\n",
    "q1 = score_col.quantile(0.25)\n",
    "iqr = score_col.quantile(0.75) - score_col.quantile(0.25)\n",
    "print(f\"IQR: {score_col.quantile(0.75) - score_col.quantile(0.25)}\")"
   ]
  },
  {
   "cell_type": "code",
   "execution_count": 30,
   "id": "0538f70d-8b0e-42cf-8d24-ba6766af9a02",
   "metadata": {},
   "outputs": [
    {
     "data": {
      "image/png": "[encoded data removed]",
      "text/plain": [
       "<Figure size 900x600 with 2 Axes>"
      ]
     },
     "metadata": {},
     "output_type": "display_data"
    }
   ],
   "source": [
    "plt.figure(figsize=(9,6))\n",
    "plt.subplot(1,2,1)\n",
    "plt.boxplot(score_col)\n",
    "plt.title(\"Score Distribution\")\n",
    "plt.ylabel(\"Ups\")\n",
    "\n",
    "plt.subplot(1,2,2)\n",
    "plt.hist(score_col, bins=50)\n",
    "plt.title(\"Score Distribution\")\n",
    "plt.ylabel(\"Frequency\")\n",
    "plt.xlabel(\"# ups\")\n",
    "\n",
    "plt.show()\n",
    " "
   ]
  },
  {
   "cell_type": "code",
   "execution_count": 31,
   "id": "28d1a171-9a37-44be-acf2-f1b4bb08f0e3",
   "metadata": {},
   "outputs": [
    {
     "name": "stdout",
     "output_type": "stream",
     "text": [
      "Length of temp data:  469\n"
     ]
    },
    {
     "data": {
      "image/png": "[encoded data removed]",
      "text/plain": [
       "<Figure size 900x600 with 2 Axes>"
      ]
     },
     "metadata": {},
     "output_type": "display_data"
    }
   ],
   "source": [
    "temp_data = score_col[score_col <= score_col.quantile(0.55) ]\n",
    "print(f\"Length of temp data:  {len(temp_data)}\")\n",
    "plt.figure(figsize=(9,6))\n",
    "plt.subplot(1,2,1)\n",
    "plt.boxplot(temp_data)\n",
    "plt.title(\"Score Distribution Median\")\n",
    "plt.ylabel(\"Ups\")\n",
    "# plt.ylim(0, np.percentile(score_col, 25))\n",
    "\n",
    "plt.subplot(1,2,2)\n",
    "plt.hist(temp_data, bins=50)\n",
    "plt.title(\"Score Distribution Median\")\n",
    "plt.ylabel(\"Frequency\")\n",
    "plt.xlabel(\"# ups\")\n",
    "# plt.xlim(0, np.percentile(score_col, 90))\n",
    "\n",
    "plt.show()"
   ]
  },
  {
   "cell_type": "code",
   "execution_count": null,
   "id": "4d9e9942-057f-483e-9aa7-d112cce00419",
   "metadata": {},
   "outputs": [],
   "source": []
  },
  {
   "cell_type": "code",
   "execution_count": 32,
   "id": "8bb04471-614e-4ebc-a664-8c76f29fa086",
   "metadata": {},
   "outputs": [
    {
     "name": "stdout",
     "output_type": "stream",
     "text": [
      "Length of temp data:  637\n"
     ]
    },
    {
     "data": {
      "image/png": "[encoded data removed]",
      "text/plain": [
       "<Figure size 900x600 with 2 Axes>"
      ]
     },
     "metadata": {},
     "output_type": "display_data"
    }
   ],
   "source": [
    "temp_data = score_col[score_col <= score_col.quantile(0.75) ]\n",
    "print(f\"Length of temp data:  {len(temp_data)}\")\n",
    "plt.figure(figsize=(9,6))\n",
    "plt.subplot(1,2,1)\n",
    "plt.boxplot(temp_data)\n",
    "plt.title(\"Score Distribution 75% Percentile\")\n",
    "plt.ylabel(\"Ups\")\n",
    "# plt.ylim(0, np.percentile(score_col, 25))\n",
    "\n",
    "plt.subplot(1,2,2)\n",
    "plt.hist(temp_data, bins=50)\n",
    "plt.title(\"Score Distribution Third Quartile\")\n",
    "plt.ylabel(\"Frequency\")\n",
    "plt.xlabel(\"# ups\")\n",
    "# plt.xlim(0, np.percentile(score_col, 90))\n",
    "\n",
    "plt.show()"
   ]
  },
  {
   "cell_type": "code",
   "execution_count": 33,
   "id": "2973ced4-eac9-42fd-8477-218715ada2ce",
   "metadata": {},
   "outputs": [
    {
     "name": "stdout",
     "output_type": "stream",
     "text": [
      "post source: https://www.reddit.com/r/AmItheAsshole/comments/1h2cd6o/aita_for_making_my_uncle_walk_away_from_dinner/\n",
      "\n",
      "post-content: b' i used chat gpt btw since i suck at storytelling but this is true.. I (F17) wasn\\xe2\\x80\\x99t originally invited to dinner, but my cousin thought our uncle (M40+) was visiting our house. It turned out they were going to my cousin\\xe2\\x80\\x99s house for dinner, so I decided to tag along. From the moment we arrived, my uncle and others kept commenting on my table manners, like saying I should eat with my mouth closed. When they didn\\xe2\\x80\\x99t like the food at the restaurant, I asked if I could finish what they didn\\xe2\\x80\\x99t want, and they made a comment like, \\xe2\\x80\\x9cBeggars can\\xe2\\x80\\x99t be choosers.\\xe2\\x80\\x9d They\\xe2\\x80\\x99ve always picked on me during family gatherings\\xe2\\x80\\x94making jokes about my behavior, telling me I should \\xe2\\x80\\x9cact like a proper girl,\\xe2\\x80\\x9d and even cutting me off when I sing karaoke. At dinner, my aunt asked my uncle\\xe2\\x80\\x99s wife if she liked the food, and she said yes. But earlier, my uncle had said the food wasn\\xe2\\x80\\x99t great. So, as a joke, I said something like, \\xe2\\x80\\x9cWell, uncle is more straightforward, not like the Bible says, \\xe2\\x80\\x98seasoned with salt,\\xe2\\x80\\x99\\xe2\\x80\\x9d referring to how the Bible talks about speaking with kindness. He got visibly mad, started saying things like, \\xe2\\x80\\x9cYou need to be careful about what you say,\\xe2\\x80\\x9d and made it a big deal. After dinner, my aunt paid the bill, and they left without saying much. I feel like I might\\xe2\\x80\\x99ve crossed a line, but I\\xe2\\x80\\x99m not sure if I deserved all the comments leading up to this. '\n"
     ]
    }
   ],
   "source": [
    "pd.set_option('display.max_colwidth', None)\n",
    "score_0 = df[df['ups'] == 0]\n",
    "print(f\"post source: {score_0['url'].iloc[0]}\")\n",
    "print()\n",
    "\n",
    "print(f\"post-content: {score_0['text_content'].iloc[0]}\")\n"
   ]
  },
  {
   "cell_type": "code",
   "execution_count": 34,
   "id": "3cf76501-6425-426d-921e-20e7c9157e90",
   "metadata": {},
   "outputs": [],
   "source": [
    "pd.reset_option('display.max_colwidth')"
   ]
  },
  {
   "cell_type": "markdown",
   "id": "e4b3d28c-4f7b-4b42-845b-03ebfb05a685",
   "metadata": {},
   "source": [
    "# Comment Tables"
   ]
  },
  {
   "cell_type": "code",
   "execution_count": 35,
   "id": "83e0068f-ee56-4c18-8d30-a213f4413097",
   "metadata": {},
   "outputs": [],
   "source": [
    "comments_tables_df = []\n",
    " \n",
    "for table in tables[1:]:\n",
    "    temp = pd.read_sql_query(f\"SELECT * FROM {table[0]}\", connection)\n",
    "    if 'Judgement_Bot_AITA' in temp[\"author\"]:\n",
    "        temp = temp.drop(temp.index[temp[\"author\"]=='Judgement_Bot_AITA'], axis=0)\n",
    "    if 'AutoModerator' in temp[\"author\"]:\n",
    "        temp = temp.drop(temp.index[temp[\"author\"]=='AutoModerator'], axis=0)\n",
    "    comments_tables_df.append(temp)"
   ]
  },
  {
   "cell_type": "code",
   "execution_count": 36,
   "id": "1ea8f77d-5c26-411b-b84f-c4bd0ac5e661",
   "metadata": {},
   "outputs": [
    {
     "data": {
      "text/html": [
       "<div>\n",
       "<style scoped>\n",
       "    .dataframe tbody tr th:only-of-type {\n",
       "        vertical-align: middle;\n",
       "    }\n",
       "\n",
       "    .dataframe tbody tr th {\n",
       "        vertical-align: top;\n",
       "    }\n",
       "\n",
       "    .dataframe thead th {\n",
       "        text-align: right;\n",
       "    }\n",
       "</style>\n",
       "<table border=\"1\" class=\"dataframe\">\n",
       "  <thead>\n",
       "    <tr style=\"text-align: right;\">\n",
       "      <th></th>\n",
       "      <th>post_id</th>\n",
       "      <th>comment_id</th>\n",
       "      <th>content</th>\n",
       "      <th>ups</th>\n",
       "      <th>author</th>\n",
       "    </tr>\n",
       "  </thead>\n",
       "  <tbody>\n",
       "    <tr>\n",
       "      <th>0</th>\n",
       "      <td>t3_1h2bxzj</td>\n",
       "      <td>t1_lzi59bj</td>\n",
       "      <td>b' Welcome to r/AmITheAsshole. Please view our...</td>\n",
       "      <td>1</td>\n",
       "      <td>Judgement_Bot_AITA</td>\n",
       "    </tr>\n",
       "    <tr>\n",
       "      <th>1</th>\n",
       "      <td>t3_1h2bxzj</td>\n",
       "      <td>t1_lzi68xi</td>\n",
       "      <td>b' Sorry, but you are one of three roommates. ...</td>\n",
       "      <td>1</td>\n",
       "      <td>Waste_Worker6122</td>\n",
       "    </tr>\n",
       "    <tr>\n",
       "      <th>2</th>\n",
       "      <td>t3_1h2bxzj</td>\n",
       "      <td>t1_lzi6k0p</td>\n",
       "      <td>b' YTA. They\\'re roommates, they have a right ...</td>\n",
       "      <td>1</td>\n",
       "      <td>growsonwalls</td>\n",
       "    </tr>\n",
       "    <tr>\n",
       "      <th>3</th>\n",
       "      <td>t3_1h2bxzj</td>\n",
       "      <td>t1_lzi5ps9</td>\n",
       "      <td>b' INFO: Why 8PM? That sounds extremely early ...</td>\n",
       "      <td>1</td>\n",
       "      <td>Equivalent-Car-997</td>\n",
       "    </tr>\n",
       "    <tr>\n",
       "      <th>4</th>\n",
       "      <td>t3_1h2bxzj</td>\n",
       "      <td>t1_lzi7kow</td>\n",
       "      <td>b\" YTA for making boundaries on an apt you sha...</td>\n",
       "      <td>1</td>\n",
       "      <td>Aggressive_Cattle320</td>\n",
       "    </tr>\n",
       "    <tr>\n",
       "      <th>5</th>\n",
       "      <td>t3_1h2bxzj</td>\n",
       "      <td>t1_lzi6bfz</td>\n",
       "      <td>b\" 8 pm is insane. Assuming any of them work a...</td>\n",
       "      <td>1</td>\n",
       "      <td>DaveyDumplings</td>\n",
       "    </tr>\n",
       "    <tr>\n",
       "      <th>6</th>\n",
       "      <td>t3_1h2bxzj</td>\n",
       "      <td>t1_lzi9fp7</td>\n",
       "      <td>b\" YTA 8 pm, are you serious? I had a later ti...</td>\n",
       "      <td>1</td>\n",
       "      <td>smoke4141</td>\n",
       "    </tr>\n",
       "    <tr>\n",
       "      <th>7</th>\n",
       "      <td>t3_1h2bxzj</td>\n",
       "      <td>t1_lzi4m3b</td>\n",
       "      <td>b' AUTOMOD Thanks for posting! This comment is...</td>\n",
       "      <td>1</td>\n",
       "      <td>AutoModerator</td>\n",
       "    </tr>\n",
       "    <tr>\n",
       "      <th>8</th>\n",
       "      <td>t3_1h2bxzj</td>\n",
       "      <td>t1_lzi9pt7</td>\n",
       "      <td>b' YTA, 8 is ridiculous, you\\xe2\\x80\\x99re not...</td>\n",
       "      <td>1</td>\n",
       "      <td>SnooRadishes8848</td>\n",
       "    </tr>\n",
       "    <tr>\n",
       "      <th>9</th>\n",
       "      <td>t3_1h2bxzj</td>\n",
       "      <td>t1_lziamcl</td>\n",
       "      <td>b' Agreements among roommates are generally ne...</td>\n",
       "      <td>1</td>\n",
       "      <td>stannenb</td>\n",
       "    </tr>\n",
       "  </tbody>\n",
       "</table>\n",
       "</div>"
      ],
      "text/plain": [
       "      post_id  comment_id                                            content  \\\n",
       "0  t3_1h2bxzj  t1_lzi59bj  b' Welcome to r/AmITheAsshole. Please view our...   \n",
       "1  t3_1h2bxzj  t1_lzi68xi  b' Sorry, but you are one of three roommates. ...   \n",
       "2  t3_1h2bxzj  t1_lzi6k0p  b' YTA. They\\'re roommates, they have a right ...   \n",
       "3  t3_1h2bxzj  t1_lzi5ps9  b' INFO: Why 8PM? That sounds extremely early ...   \n",
       "4  t3_1h2bxzj  t1_lzi7kow  b\" YTA for making boundaries on an apt you sha...   \n",
       "5  t3_1h2bxzj  t1_lzi6bfz  b\" 8 pm is insane. Assuming any of them work a...   \n",
       "6  t3_1h2bxzj  t1_lzi9fp7  b\" YTA 8 pm, are you serious? I had a later ti...   \n",
       "7  t3_1h2bxzj  t1_lzi4m3b  b' AUTOMOD Thanks for posting! This comment is...   \n",
       "8  t3_1h2bxzj  t1_lzi9pt7  b' YTA, 8 is ridiculous, you\\xe2\\x80\\x99re not...   \n",
       "9  t3_1h2bxzj  t1_lziamcl  b' Agreements among roommates are generally ne...   \n",
       "\n",
       "   ups                author  \n",
       "0    1    Judgement_Bot_AITA  \n",
       "1    1      Waste_Worker6122  \n",
       "2    1          growsonwalls  \n",
       "3    1    Equivalent-Car-997  \n",
       "4    1  Aggressive_Cattle320  \n",
       "5    1        DaveyDumplings  \n",
       "6    1             smoke4141  \n",
       "7    1         AutoModerator  \n",
       "8    1      SnooRadishes8848  \n",
       "9    1              stannenb  "
      ]
     },
     "execution_count": 36,
     "metadata": {},
     "output_type": "execute_result"
    }
   ],
   "source": [
    "comments_tables_df[5]"
   ]
  },
  {
   "cell_type": "markdown",
   "id": "e2704b9c-9cc4-4ce5-880e-e1bbc367ffff",
   "metadata": {},
   "source": [
    "# Train Word2Vec + More Processing"
   ]
  },
  {
   "cell_type": "code",
   "execution_count": null,
   "id": "2988a11f-c51c-4e3e-b857-1ee9c8d13af1",
   "metadata": {},
   "outputs": [],
   "source": [
    "# For padding\n",
    "sequence_length = 22\n",
    "# Embedding dimensions. # Dimensions for each word vector\n",
    "dims = 70"
   ]
  },
  {
   "cell_type": "code",
   "execution_count": null,
   "id": "f83b72a2-58da-4a1f-a5a0-7aa95a464c49",
   "metadata": {},
   "outputs": [],
   "source": [
    "import tensorflow as tf\n",
    "from tensorflow.keras import layers\n",
    "from tensorflow.keras import Sequential\n",
    "from tensorflow.keras.layers import Dense, Embedding, GlobalAveragePooling1D\n",
    "from tensorflow.keras.layers import TextVectorization"
   ]
  },
  {
   "cell_type": "markdown",
   "id": "97826803-1c74-443f-8306-8d3f4496bc06",
   "metadata": {},
   "source": [
    "We will separate the posts sentences."
   ]
  },
  {
   "cell_type": "code",
   "execution_count": null,
   "id": "ff8232fe-d384-484c-83c3-0b5013d07151",
   "metadata": {},
   "outputs": [],
   "source": [
    "def custom_standardization_tf(input_data):\n",
    "    #Should I remove stop words? \n",
    "    input_data = tf.strings.regex_replace(input_data, r'[?():,\\'\".]', '')\n",
    "    input_data = tf.strings.lower(input_data)\n",
    "    lowercase = tf.strings.lower(input_data)\n",
    "    return tf.strings.regex_replace(lowercase,'[%s]' % re.escape(string.punctuation), '')"
   ]
  },
  {
   "cell_type": "code",
   "execution_count": null,
   "id": "151f86d6-4dbb-479b-b086-f3445e367e62",
   "metadata": {},
   "outputs": [],
   "source": [
    "print(f\"There are {len(tokenized_sentences)} tokenized sentences\")\n",
    "batch_size = 5\n",
    "# batch size must be a multiple of # sentences"
   ]
  },
  {
   "cell_type": "code",
   "execution_count": null,
   "id": "a4c1b76c-4bcd-475f-acb3-48e74f473d18",
   "metadata": {},
   "outputs": [],
   "source": [
    "vocab_size = len(set(all_word_tokens))"
   ]
  },
  {
   "cell_type": "code",
   "execution_count": null,
   "id": "236b5c2c-d0a8-4714-8635-f665ca2546db",
   "metadata": {},
   "outputs": [],
   "source": [
    "vectorize_layer = layers.TextVectorization(\n",
    "    standardize=custom_standardization_tf,\n",
    "    max_tokens=vocab_size,\n",
    "    output_mode='int',\n",
    "    output_sequence_length=sequence_length)"
   ]
  },
  {
   "cell_type": "code",
   "execution_count": null,
   "id": "540cd20f-50a4-4d39-8bd6-11ced3448e5d",
   "metadata": {},
   "outputs": [],
   "source": [
    "vectorize_layer.adapt(all_texts)"
   ]
  },
  {
   "cell_type": "code",
   "execution_count": null,
   "id": "11c2b2be-9682-49f9-b92c-9532bd69e352",
   "metadata": {},
   "outputs": [],
   "source": [
    "tensor = tf.convert_to_tensor(all_texts, dtype=tf.string)\n",
    "dataset = tf.data.Dataset.from_tensor_slices(tensor)\n",
    "vectorize_layer.adapt(dataset)\n",
    "inverse_vocab = vectorize_layer.get_vocabulary()\n",
    "AUTOTUNE = tf.data.AUTOTUNE\n",
    "text_vector_ds = dataset.prefetch(AUTOTUNE).map(vectorize_layer)\n",
    "sequences = list(text_vector_ds.as_numpy_iterator())"
   ]
  },
  {
   "cell_type": "code",
   "execution_count": null,
   "id": "2aebb669-ce85-40ce-a6ac-0fa6972bf169",
   "metadata": {},
   "outputs": [],
   "source": [
    "def generate_training_data(sequences, window_size, num_ns, vocab_size, seed):\n",
    "    \n",
    "  targets, contexts, labels = [], [], []\n",
    "\n",
    "  sampling_table = tf.keras.preprocessing.sequence.make_sampling_table(vocab_size)\n",
    "\n",
    "  for sequence in tqdm.tqdm(sequences):\n",
    "\n",
    "    positive_skip_grams, _ = tf.keras.preprocessing.sequence.skipgrams(\n",
    "          sequence,\n",
    "          vocabulary_size=vocab_size,\n",
    "          sampling_table=sampling_table,\n",
    "          window_size=window_size,\n",
    "          negative_samples=0,seed=42)\n",
    "\n",
    "    for target_word, context_word in positive_skip_grams:\n",
    "      context_class = tf.expand_dims(\n",
    "          tf.constant([context_word], dtype=\"int64\"), 1)\n",
    "      negative_sampling_candidates, _, _ = tf.random.log_uniform_candidate_sampler(\n",
    "          true_classes=context_class,\n",
    "          num_true=1,\n",
    "          num_sampled=num_ns,\n",
    "          unique=True,\n",
    "          range_max=vocab_size,\n",
    "          seed=42,\n",
    "          name=\"negative_sampling\")\n",
    "\n",
    "      context = tf.concat([tf.squeeze(context_class,1), negative_sampling_candidates], 0)\n",
    "      label = tf.constant([1] + [0]*num_ns, dtype=\"int64\")\n",
    "\n",
    "      targets.append(target_word)\n",
    "      contexts.append(context)\n",
    "      labels.append(label)\n",
    "\n",
    "  return targets, contexts, labels"
   ]
  },
  {
   "cell_type": "code",
   "execution_count": null,
   "id": "444cdf09-8e60-4bfe-bd46-19b574ddd424",
   "metadata": {},
   "outputs": [],
   "source": [
    "targets, contexts, labels = generate_training_data(\n",
    "    sequences=sequences,\n",
    "    window_size=4,\n",
    "    num_ns=4,\n",
    "    vocab_size=vocab_size,\n",
    "    seed=42)\n",
    "\n",
    "targets = np.array(targets)\n",
    "contexts = np.array(contexts)\n",
    "labels = np.array(labels)\n",
    "\n",
    "print('\\n')\n",
    "print(f\"targets.shape: {targets.shape}\")\n",
    "print(f\"contexts.shape: {contexts.shape}\")\n",
    "print(f\"labels.shape: {labels.shape}\")"
   ]
  },
  {
   "cell_type": "code",
   "execution_count": null,
   "id": "7667d883-c818-4855-b37d-70349daca7de",
   "metadata": {},
   "outputs": [],
   "source": [
    "BUFFER_SIZE = 10000\n",
    "dataset = tf.data.Dataset.from_tensor_slices(((targets, contexts), labels))\n",
    "dataset = dataset.shuffle(BUFFER_SIZE).batch(batch_size, drop_remainder=True)\n",
    "dataset = dataset.cache().prefetch(buffer_size=AUTOTUNE)"
   ]
  },
  {
   "cell_type": "code",
   "execution_count": null,
   "id": "7314dd19-e75c-4feb-9a14-dd1d6003f31f",
   "metadata": {},
   "outputs": [],
   "source": [
    "def custom_loss(x_logit, y_true):\n",
    "      return tf.nn.sigmoid_cross_entropy_with_logits(logits=x_logit, labels=y_true)"
   ]
  },
  {
   "cell_type": "code",
   "execution_count": null,
   "id": "f4fc7817-15e6-4961-97ff-866e2bdc14d8",
   "metadata": {},
   "outputs": [],
   "source": [
    "word2vec = Word2Vec(vocab_size, dims)\n",
    "word2vec.compile(optimizer='adam',\n",
    "                 loss=tf.keras.losses.CategoricalCrossentropy(from_logits=True),\n",
    "                 metrics=['accuracy'])"
   ]
  },
  {
   "cell_type": "code",
   "execution_count": null,
   "id": "5bb6f2a6-cf96-4506-850c-380ef59d6b14",
   "metadata": {},
   "outputs": [],
   "source": [
    "word2vec.fit(dataset, epochs=20, callbacks=[tensorboard_callback])"
   ]
  },
  {
   "cell_type": "code",
   "execution_count": null,
   "id": "0c267e48-312a-4994-afaa-d00c505aef5c",
   "metadata": {},
   "outputs": [],
   "source": [
    "weights = word2vec.get_layer('w2v_embedding').get_weights()[0]\n",
    "vocab = vectorize_layer.get_vocabulary()\n",
    "out_v = io.open(f'vectors_{dims}dim.tsv', 'w', encoding='utf-8')\n",
    "out_m = io.open(f'metadata_{dims}dim.tsv', 'w', encoding='utf-8')\n",
    "word_to_index = {}\n",
    "for index, word in enumerate(vocab):\n",
    "    if index == 0:\n",
    "        continue  # skip 0, it's padding.\n",
    "    vec = weights[index]\n",
    "    word_to_index[word] = index\n",
    "    out_v.write('\\t'.join([str(x) for x in vec]) + \"\\n\")\n",
    "    out_m.write(word + \"\\n\")\n",
    "out_v.close()\n",
    "out_m.close()"
   ]
  },
  {
   "cell_type": "code",
   "execution_count": 21,
   "id": "fb522308-71b0-4a18-bb80-bbb547d3eec6",
   "metadata": {},
   "outputs": [],
   "source": [
    "words = []\n",
    "with open('metadata_70dim.tsv', 'r', encoding='utf-8') as f_m:\n",
    "    for line in f_m:\n",
    "        word = line.strip()\n",
    "        words.append(word)\n",
    "\n",
    "# Read vectors\n",
    "vectors = []\n",
    "with open('vectors_70dim.tsv', 'r', encoding='utf-8') as f_v:\n",
    "    for line in f_v:\n",
    "        # Split line by tab and convert each element to float\n",
    "        vec = [float(x) for x in line.strip().split('\\t')]\n",
    "        #print(vec)\n",
    "        vectors.append(vec)\n",
    "\n",
    "word_to_index = {}\n",
    "for word,v in zip(words,vectors):\n",
    "     word_to_index[word] = v\n",
    "  "
   ]
  },
  {
   "cell_type": "markdown",
   "id": "d6526116-5d67-454f-b1d7-2ee7a733202e",
   "metadata": {},
   "source": [
    "# Convert Sentences to Groups of Vectors"
   ]
  },
  {
   "cell_type": "code",
   "execution_count": 25,
   "id": "d307b347-688c-4cf8-8110-abd98ca994f5",
   "metadata": {},
   "outputs": [],
   "source": []
  },
  {
   "cell_type": "code",
   "execution_count": 26,
   "id": "76bdd106-6d00-40f4-999b-00b3492c7562",
   "metadata": {},
   "outputs": [
    {
     "data": {
      "text/plain": [
       "'https://www.reddit.com/r/AmItheAsshole/comments/1h2ck8c/aita_for_offering_to_buy_my_aunt_a_birthday_gift/'"
      ]
     },
     "execution_count": 26,
     "metadata": {},
     "output_type": "execute_result"
    }
   ],
   "source": [
    "df['url'].iloc[0]"
   ]
  },
  {
   "cell_type": "code",
   "execution_count": 27,
   "id": "b299e218-9ef0-45d2-b18c-474baf234bc3",
   "metadata": {},
   "outputs": [],
   "source": [
    "def remove_stopwords(sen):\n",
    "    sen_ = \" \".join([i for i in sen.split() if i not in stop_words])\n",
    "    return sen_"
   ]
  },
  {
   "cell_type": "code",
   "execution_count": 28,
   "id": "5495e095-eca2-4472-9d5e-d0eef7c4c3a6",
   "metadata": {},
   "outputs": [],
   "source": [
    "posts_texts=df[\"text_content\"]"
   ]
  },
  {
   "cell_type": "code",
   "execution_count": 29,
   "id": "99f35f06-04c5-4fc1-b79d-3744162c49ce",
   "metadata": {},
   "outputs": [
    {
     "data": {
      "text/plain": [
       "b' Hello Reddit! Ok so a few days ago my aunt asked the family group chat if one of us could buy her a cheap computer for her birthday. I told her I would. My mom messaged me separately saying that I couldn\\xe2\\x80\\x99t buy it, that my aunt could pay for it herself and that if I had money to buy a computer, I had money to buy myself new tires. Backstory, my birthday was a few weeks ago and I asked my dad to pay for my tires. Now, I didn\\xe2\\x80\\x99t ask out of necessity, as I can buy my own tires, but he didn\\xe2\\x80\\x99t know what else to get me, so I just suggested that. Back to my mom, I told her that she wasn\\xe2\\x80\\x99t the one paying for the tires, so I didn\\xe2\\x80\\x99t understand why she cared. She said she would tell my dad, basically saying that she would make it so he wouldn\\xe2\\x80\\x99t pay for them. Am I crazy or is that petty and manipulative? My sister is kinda on my mom\\xe2\\x80\\x99s side and said that she understands why she\\xe2\\x80\\x99s upset but I\\xe2\\x80\\x99m confused. My mom has a history of being controlling and she\\xe2\\x80\\x99s gotten better over the years, but this is wild, right lol? Thanks for listening! '"
      ]
     },
     "execution_count": 29,
     "metadata": {},
     "output_type": "execute_result"
    }
   ],
   "source": [
    "posts_texts[0]"
   ]
  },
  {
   "cell_type": "code",
   "execution_count": 37,
   "id": "5ae1e527-9573-4d5c-a764-347170517fa7",
   "metadata": {},
   "outputs": [],
   "source": [
    "# posts_texts = list of strings each containing a post content\n",
    "posts_list = []\n",
    "# for i, post_text in enumerate(posts_texts):\n",
    "for i, post_text in enumerate(posts_texts):\n",
    "    single_post = []\n",
    "    post_text = post_text.decode('utf-8')\n",
    "    post_text = re.split('[!?.]', post_text)\n",
    "    \n",
    "    #print(\"post_text: \", post_text)\n",
    "    for sentence in post_text:  \n",
    "        sentence = re.sub(r'[!?():;,\\'\"”._’`]', '', sentence)\n",
    "        sentence = sentence.strip()\n",
    "        sentence = re.sub(r'\\d+','',sentence)    \n",
    "        sentence = remove_stopwords(sentence)\n",
    "        sentence = sentence.lower()\n",
    "        \n",
    "    \n",
    "        sentence = contractions.fix(sentence)\n",
    "        #print(\"after: \", sentence)\n",
    "    \n",
    "    \n",
    "    #sentence = sentence.lower()   \n",
    "        if sentence and sentence != ' ':\n",
    "            single_post.append(sentence)\n",
    "    posts_list.append(single_post)"
   ]
  },
  {
   "cell_type": "code",
   "execution_count": 38,
   "id": "373c6d34-4e28-436c-b94c-24352344e783",
   "metadata": {},
   "outputs": [],
   "source": [
    "dims=70"
   ]
  },
  {
   "cell_type": "code",
   "execution_count": 39,
   "id": "f8c70ad2-572d-4338-a915-f954a65c6f01",
   "metadata": {},
   "outputs": [],
   "source": [
    "from sklearn.cluster import KMeans\n",
    "from nltk import pos_tag"
   ]
  },
  {
   "cell_type": "code",
   "execution_count": 40,
   "id": "7eb05eb5-6e16-49d3-aa7d-e98e47969366",
   "metadata": {},
   "outputs": [],
   "source": [
    "n_sentences = 12"
   ]
  },
  {
   "cell_type": "code",
   "execution_count": null,
   "id": "99b44fd5-fce6-4cd2-8d6f-5c51534b3f9d",
   "metadata": {},
   "outputs": [],
   "source": [
    "word_embeddings = {}\n",
    "vectorized_sentence = []\n",
    "# this is supposed to be applied to all words in vocab\n",
    "for word in all_word_tokens:\n",
    "    try:\n",
    "        vector=np.array(word_to_index[word])\n",
    "        word_embeddings[word] = np.array(word_to_index[word])\n",
    "        vectorized_sentence.append(vector)\n",
    "    except KeyError:\n",
    "        continue\n"
   ]
  },
  {
   "cell_type": "code",
   "execution_count": 48,
   "id": "531b12d3-99b6-42e4-b8f3-08ab64df2034",
   "metadata": {
    "scrolled": true
   },
   "outputs": [],
   "source": [
    "def pos_tag_only_nouns(single_post):\n",
    "    new = []\n",
    "    \n",
    "    for s in single_post: \n",
    "        tokenized_sentences_ = remove_stopwords(s)\n",
    "        tokenized_sentences_ = [w.strip() for w in tokenized_sentences_.split()]\n",
    "        tokenized_sentences_ = pos_tag(tokenized_sentences_)\n",
    "        \n",
    "        for word,tag in tokenized_sentences_:      \n",
    "            if tag == 'NN':\n",
    "                new.append(word)\n",
    " \n",
    "    return list(set(new))"
   ]
  },
  {
   "cell_type": "code",
   "execution_count": null,
   "id": "6beb92d5-2378-468e-a65e-ef6b5901a433",
   "metadata": {},
   "outputs": [],
   "source": [
    "d = np.array(word_embeddings.get('reddit'.lower(), np.zeros((dims,)))) #+ word_embeddings.get('Hello'.lower(), np.zeros((dims,)))\n",
    "d.shape\n",
    "d"
   ]
  },
  {
   "cell_type": "code",
   "execution_count": 50,
   "id": "a795483d-bd46-48fa-90c0-664fdeac7a9e",
   "metadata": {},
   "outputs": [],
   "source": [
    "def make_list_sentence_vectors(single_post, dims,word_embeddings):\n",
    "    \n",
    "    sentence_vectors = []\n",
    "    for s in single_post:\n",
    "\n",
    "        if len(s) != 0:\n",
    "            v = sum([np.array(word_embeddings.get(w.lower(), np.zeros((dims,)))) for w in s.split()])/ len(s.split()) +0.01\n",
    "            \n",
    "        else:\n",
    "            v = np.zeros(dims)\n",
    "            \n",
    "        sentence_vectors.append(np.array(v))\n",
    "    return sentence_vectors"
   ]
  },
  {
   "cell_type": "code",
   "execution_count": null,
   "id": "7d846145-ca0a-4d4b-b1fd-7d6c2eb45121",
   "metadata": {},
   "outputs": [],
   "source": [
    "sentence_vectors = make_list_sentence_vectors(single_post=posts_list[0], dims=dims,word_embeddings=word_embeddings)"
   ]
  },
  {
   "cell_type": "code",
   "execution_count": 51,
   "id": "fdd9438b-736b-4347-95bc-0d29f6914eb0",
   "metadata": {},
   "outputs": [],
   "source": [
    "def make_sim_matrix_0s(n_rows_cols):\n",
    "    sim_mat = np.zeros([n_rows_cols, n_rows_cols])\n",
    "    return sim_mat"
   ]
  },
  {
   "cell_type": "markdown",
   "id": "4615dcdc-440f-42d3-be59-8259242bfbef",
   "metadata": {},
   "source": [
    "# Attempt clustering word"
   ]
  },
  {
   "cell_type": "code",
   "execution_count": 53,
   "id": "cc9bc57e-bc8c-40e0-a37e-e83fa8c78501",
   "metadata": {},
   "outputs": [],
   "source": [
    "def make_word_tokens(clean_sentences_single_post):\n",
    "\n",
    "    word_tokens = list(set(w for s in clean_sentences_single_post for w in s.split()))\n",
    "    return word_tokens"
   ]
  },
  {
   "cell_type": "code",
   "execution_count": null,
   "id": "06d9b35c-26fa-4e1e-9832-f25643e09698",
   "metadata": {},
   "outputs": [],
   "source": [
    "word_tokens = make_word_tokens(clean_sentences_nouns)"
   ]
  },
  {
   "cell_type": "code",
   "execution_count": 54,
   "id": "383fca48-b175-47f1-8030-3c5e336bc44e",
   "metadata": {},
   "outputs": [],
   "source": [
    "def get_word_embeddings_from_tokens(word_tokens, dims):\n",
    "    for i,w in enumerate(word_tokens):\n",
    "        T_weights_words = word_embeddings.get(w, np.zeros((dims,)))\n",
    "        T_weights_words = T_weights_words.reshape(-1)\n",
    "        weights_df.iloc[i] = T_weights_words\n",
    "    return weights_df"
   ]
  },
  {
   "cell_type": "code",
   "execution_count": null,
   "id": "18a8ed96-1227-44c3-99e6-76d7c5c7173c",
   "metadata": {},
   "outputs": [],
   "source": [
    "vector_shape = (dims,)"
   ]
  },
  {
   "cell_type": "code",
   "execution_count": 56,
   "id": "506da6a7-80d4-4b6d-95a8-0f4c054b1e64",
   "metadata": {},
   "outputs": [],
   "source": [
    "def make_cosine_similarity_adjancy_matrix(**kwargs):\n",
    "    try:\n",
    "        if 'single_vector_list' in kwargs:\n",
    "            vector_list_1 = kwargs['single_vector_list']\n",
    "            vector_list_2 = kwargs['single_vector_list']\n",
    "        else:\n",
    "            vector_list_1 = kwargs['vector_list_1']\n",
    "            vector_list_2 = kwargs['vector_list_2']\n",
    "    except KeyError:\n",
    "        print(f\"kwargs given: {kwargs.items()}, when allowed are :\")\n",
    "        print(\"- single_vector_list\")\n",
    "        print(\"- vector_list_1\")\n",
    "        print(\"- vector_list_2\")\n",
    "    n_rows = len(vector_list_1)\n",
    "    n_cols = len(vector_list_2)\n",
    "    \n",
    "    if n_rows != n_cols:\n",
    "        if n_rows < n_cols:\n",
    "            vector_shape = vector_list_2[0].shape\n",
    "            vector_zeros = [np.zeros(vector_shape) for _ in range(n_cols-n_rows )]\n",
    "            vector_list_1 = vector_list_1 + vector_zeros \n",
    "            n_rows = len(vector_list_1)\n",
    "        elif n_rows > n_cols:\n",
    "            vector_shape = vector_list_1[0].shape\n",
    "            vector_zeros = [np.zeros(word_vector_shape) for _ in range(n_rows - n_cols )]\n",
    "            vector_list_2 = vector_list_2 + vector_zeros \n",
    "            n_cols = len(vector_list_2)\n",
    "    else:\n",
    "        vector_shape = vector_list_1[0].shape\n",
    "  \n",
    "    sim_mat = make_sim_matrix_0s(n_rows)\n",
    "    for i in range(n_rows):\n",
    "        for j in range(n_cols):\n",
    "            if i != j:\n",
    "                sim_mat[i][j] = cosine_similarity(vector_list_1[i].reshape(1,dims), vector_list_2[j].reshape(1,dims))[0,0]\n",
    "    return sim_mat"
   ]
  },
  {
   "cell_type": "code",
   "execution_count": null,
   "id": "3fb7e847-0bc2-4d85-a8a3-c8c2196885ed",
   "metadata": {},
   "outputs": [],
   "source": [
    "n_sentences = len(sentence_vectors)\n",
    "sim_mat = make_cosine_similarity_adjancy_matrix(single_vector_list =sentence_vectors)"
   ]
  },
  {
   "cell_type": "code",
   "execution_count": null,
   "id": "ac3b1bb3-a460-4c96-bd4f-04c34316215a",
   "metadata": {},
   "outputs": [],
   "source": [
    "print(\"N_setnences: \",len(sentence_vectors))\n",
    "print(\"Vector word length: \",len(sentence_vectors[1]))"
   ]
  },
  {
   "cell_type": "code",
   "execution_count": null,
   "id": "2c64d288-bec0-4aa9-9352-7db487e53e12",
   "metadata": {},
   "outputs": [],
   "source": [
    "ranked_sentences = sorted(((scores[i],s) for i,s in enumerate(clean_tokenized_sentences)), reverse=True)"
   ]
  },
  {
   "cell_type": "code",
   "execution_count": 57,
   "id": "4c838911-544d-44bd-8e05-8784bd84a760",
   "metadata": {},
   "outputs": [],
   "source": [
    "def word_vectors(word_tokens,dims):\n",
    "  \n",
    "    print(\"length of clean_words_unique: \",len(word_tokens))\n",
    "    word_vectors= []\n",
    "    for w in word_tokens:\n",
    "                \n",
    "        v = word_embeddings.get(w, np.zeros((dims,)))\n",
    "        word_vectors.append(v)\n",
    "      \n",
    "     \n",
    "    return word_vectors"
   ]
  },
  {
   "cell_type": "code",
   "execution_count": 59,
   "id": "bd2ea236-d080-4165-aa41-b30348056e8c",
   "metadata": {},
   "outputs": [],
   "source": [
    "def apply_pageRank(sim_matrix, list_items_compared_sim_matrix):\n",
    "    # returns top ranked things\n",
    "    nx_graph = nx.from_numpy_array(sim_matrix)\n",
    "    #print(nx_graph)\n",
    "    #pos = nx.spring_layout(nx_graph)\n",
    "    #nx.draw_networkx_nodes(nx_graph, pos, node_size=500)\n",
    "    #nx.draw_networkx_edges(nx_graph, pos, edgelist= nx_graph.edges(), width=2)\n",
    "    #nx.draw_networkx_labels(nx_graph, pos)\n",
    "    #scores = nx.pagerank(nx_graph, max_iter=100,tol=1.0e-3)\n",
    "    pagerank = PageRank()\n",
    "    scores = pagerank.fit_predict(sim_matrix)\n",
    "    #scores = nx.pagerank_scipy(nx_graph)\n",
    "    ranked_ = sorted(((scores[i],s) for i,s in enumerate(list_items_compared_sim_matrix)), reverse=True)\n",
    "    return ranked_"
   ]
  },
  {
   "cell_type": "code",
   "execution_count": 60,
   "id": "8cbf4955-4fd8-446c-9d48-2dd8830b7895",
   "metadata": {},
   "outputs": [],
   "source": [
    "df_keywords = pd.DataFrame(\n",
    "    [['' for _ in range(7)] for _ in range(849)],\n",
    "    #np.empty((849, 7)),   \n",
    "    columns=[\"keyword_1\", \"keyword_2\", \"keyword_3\", \"keyword_4\", \"keyword_5\", \"keyword_6\", \"keyword_7\"]\n",
    ")\n",
    "df_keywords_scores = pd.DataFrame(\n",
    "    np.zeros((849, 7)),   \n",
    "    columns=[\"keyword_1\", \"keyword_2\", \"keyword_3\", \"keyword_4\", \"keyword_5\", \"keyword_6\", \"keyword_7\"]\n",
    ")"
   ]
  },
  {
   "cell_type": "markdown",
   "id": "af8c5be9-baf7-441c-859d-8555820985cb",
   "metadata": {},
   "source": [
    "# ANALYSIS"
   ]
  },
  {
   "cell_type": "code",
   "execution_count": 63,
   "id": "6782ec26-6945-48ab-96ac-c035a7e5b0c0",
   "metadata": {},
   "outputs": [],
   "source": [
    "def extract_top_sentences_words(posts_list, dims, word_embeddings):\n",
    "    list_posts_top_ranked_s = []\n",
    "    list_posts_top_ranked_w = []\n",
    "    sum_of_scores =[]\n",
    "    \n",
    "    for i,post in enumerate(posts_list):\n",
    "        n_sentences = len(post)\n",
    "        sentence_vectors = make_list_sentence_vectors(single_post=post, dims=dims,word_embeddings=word_embeddings)\n",
    "        # make sim matrix\n",
    "        sim_matrix_s = make_cosine_similarity_adjancy_matrix(single_vector_list=sentence_vectors)\n",
    "        # getting only nouns \n",
    "        only_nouns_sentences = pos_tag_only_nouns(single_post=post)\n",
    "        # getting word tokens for words indiidually and placing them in list\n",
    "        word_tokens = only_nouns_sentences\n",
    "        word_vectors_ = word_vectors(word_tokens, dims)\n",
    "        sentence_vectors = make_list_sentence_vectors(single_post=post, dims=dims,word_embeddings=word_embeddings)\n",
    "        sim_matrix_w = make_cosine_similarity_adjancy_matrix(vector_list_1=word_vectors_, vector_list_2=word_vectors_)\n",
    "        \n",
    "        ranked_words = apply_pageRank(sim_matrix_w, word_tokens)\n",
    "\n",
    "        page_rank_scores, page_rank_label = zip(*ranked_words)\n",
    "        sum_ = sum(page_rank_scores)\n",
    " \n",
    "        list_posts_top_ranked_w.append(ranked_words)\n",
    "        try:\n",
    "            current_sum = 0\n",
    "            df_keywords.at[i,\"keyword_1\"] = str(ranked_words[0][1])  \n",
    "            df_keywords_scores.at[i,\"keyword_1\"] = (ranked_words[0][0])\n",
    "            current_sum += ranked_words[0][0]\n",
    "            \n",
    "            df_keywords.at[i,\"keyword_2\"] = str(ranked_words[1][1])\n",
    "            df_keywords_scores.at[i,\"keyword_2\"] = (ranked_words[1][0])\n",
    "            current_sum +=ranked_words[1][0]\n",
    "            \n",
    "            df_keywords.at[i, \"keyword_3\"] = str(ranked_words[2][1])\n",
    "            df_keywords_scores.at[i, \"keyword_3\"] = (ranked_words[2][0])\n",
    "            current_sum +=ranked_words[2][0]\n",
    "            \n",
    "            df_keywords.at[i, \"keyword_4\"] = str(ranked_words[3][1])\n",
    "            df_keywords_scores.at[i, \"keyword_4\"] = ranked_words[3][0]\n",
    "            current_sum +=ranked_words[3][0]\n",
    "            \n",
    "            df_keywords.at[i, \"keyword_5\"] = str(ranked_words[4][1])\n",
    "            df_keywords_scores.at[i, \"keyword_5\"] = (ranked_words[4][0])\n",
    "            current_sum +=ranked_words[4][0]\n",
    "            \n",
    "            df_keywords.at[i, \"keyword_6\"] = str(ranked_words[5][1])\n",
    "            df_keywords_scores.at[i, \"keyword_6\"] = (ranked_words[5][0])\n",
    "            current_sum +=ranked_words[5][0]\n",
    "            \n",
    "            df_keywords.at[i, \"keyword_7\"] = str(ranked_words[6][1])\n",
    "            df_keywords_scores.at[i, \"keyword_7\"] = (ranked_words[6][0])\n",
    "            current_sum +=ranked_words[6][0]\n",
    "        except IndexError:\n",
    "            sum_of_scores.append(current_sum)\n",
    "            \n",
    "            continue\n",
    "        sum_of_scores.append(current_sum)\n",
    "     \n",
    "    return list_posts_top_ranked_s, list_posts_top_ranked_w, word_tokens,sum_of_scores"
   ]
  },
  {
   "cell_type": "code",
   "execution_count": null,
   "id": "583c7856-4b05-4d9f-9831-f26fc17c737e",
   "metadata": {},
   "outputs": [],
   "source": [
    "list_posts_top_ranked_s, list_posts_top_ranked_w, word_tokens,sum_of_scores = extract_top_sentences_words(posts_list, dims, word_embeddings)"
   ]
  },
  {
   "cell_type": "code",
   "execution_count": 66,
   "id": "62b449f2-375b-4fc2-8f81-d44a2eb248c4",
   "metadata": {},
   "outputs": [
    {
     "name": "stdout",
     "output_type": "stream",
     "text": [
      "829\n"
     ]
    },
    {
     "data": {
      "text/plain": [
       "Text(0, 0.5, 'Proportion')"
      ]
     },
     "execution_count": 66,
     "metadata": {},
     "output_type": "execute_result"
    },
    {
     "data": {
      "image/png": "[encoded data removed]",
      "text/plain": [
       "<Figure size 640x480 with 1 Axes>"
      ]
     },
     "metadata": {},
     "output_type": "display_data"
    }
   ],
   "source": [
    "# get % of score\n",
    "pct_list = []\n",
    "for i in df_keywords_scores.index:\n",
    "    pct =sum_of_scores[i]\n",
    "    if pct >=1.01:\n",
    "        continue\n",
    "    pct_list.append(pct)\n",
    "print(len(pct_list))\n",
    "plt.boxplot(pct_list) \n",
    "plt.title(\"Proportion of the 7 Keyword's Importance by Sum of PageRank Scores\")\n",
    "plt.ylabel(\"Proportion\")"
   ]
  },
  {
   "cell_type": "code",
   "execution_count": 67,
   "id": "d11eabcb-96e0-4747-bd87-6a3f1f178881",
   "metadata": {},
   "outputs": [],
   "source": [
    "columns = df_keywords.columns\n",
    "df_keywords[\"mean\"]=[0]* 849\n",
    "means = []\n",
    "\n",
    "all_ = []\n",
    "for i in range(105):\n",
    "    values = [word_embeddings.get(keyword, np.zeros((dims,))) for keyword in df_keywords.iloc[i,:7].values]\n",
    "    all_.append(values)\n"
   ]
  },
  {
   "cell_type": "code",
   "execution_count": 68,
   "id": "bcfa24f6-77ac-4902-bcb9-ff853b049893",
   "metadata": {},
   "outputs": [
    {
     "data": {
      "text/plain": [
       "'hello'"
      ]
     },
     "execution_count": 68,
     "metadata": {},
     "output_type": "execute_result"
    }
   ],
   "source": [
    "len(np.unique(all_word_tokens))\n",
    "all_word_tokens[0]"
   ]
  },
  {
   "cell_type": "code",
   "execution_count": 69,
   "id": "0b5cd7b7-99b4-411e-b7c6-0233f845a057",
   "metadata": {},
   "outputs": [],
   "source": [
    " \n",
    "def find_closest_word(vector):\n",
    "    max_similarity = -1\n",
    "    closest_word = None\n",
    "    \n",
    "    for word in all_word_tokens:\n",
    "        w =word_embeddings.get(word, np.zeros((dims,)))\n",
    "        if sum(w) !=0:\n",
    "            similarity = np.dot(w, vector) / (np.linalg.norm(w) * np.linalg.norm(vector))\n",
    "            if similarity > max_similarity:\n",
    "                max_similarity = similarity\n",
    "                closest_word = word\n",
    "    return closest_word"
   ]
  },
  {
   "cell_type": "code",
   "execution_count": 71,
   "id": "043610fb-a3c7-4722-88d6-a5d26327bd67",
   "metadata": {},
   "outputs": [],
   "source": [
    "keywords = list(df_keywords[\"keyword_1\"].unique())"
   ]
  },
  {
   "cell_type": "code",
   "execution_count": 72,
   "id": "031903ed-5dcb-4adb-b439-369b516c6709",
   "metadata": {},
   "outputs": [
    {
     "name": "stdout",
     "output_type": "stream",
     "text": [
      "414\n"
     ]
    }
   ],
   "source": [
    "print(len(keywords))"
   ]
  },
  {
   "cell_type": "code",
   "execution_count": 73,
   "id": "610bd877-7c60-40fc-bdab-aa201216d3e1",
   "metadata": {},
   "outputs": [
    {
     "name": "stdout",
     "output_type": "stream",
     "text": [
      "(105, 490)\n"
     ]
    },
    {
     "data": {
      "text/plain": [
       "[<matplotlib.lines.Line2D at 0x35c890b00>]"
      ]
     },
     "execution_count": 73,
     "metadata": {},
     "output_type": "execute_result"
    },
    {
     "data": {
      "image/png": "[encoded data removed]",
      "text/plain": [
       "<Figure size 640x480 with 1 Axes>"
      ]
     },
     "metadata": {},
     "output_type": "display_data"
    }
   ],
   "source": [
    "l = []\n",
    "sse = []\n",
    "all_ = np.array(all_)\n",
    "all_ = all_.reshape((-1,490))\n",
    "print(all_.shape)\n",
    "for i in range(1,100):\n",
    "    kmeans_topics = KMeans(n_clusters=i)\n",
    "    kmeans_topics.fit(all_)\n",
    "    sse.append(kmeans_topics.inertia_)\n",
    "plt.plot(range(1,100), sse)"
   ]
  },
  {
   "cell_type": "code",
   "execution_count": null,
   "id": "93404022-7273-496c-b65e-2cded45831d3",
   "metadata": {},
   "outputs": [],
   "source": [
    "kmeans_topics = KMeans(n_clusters=20)\n",
    "kmeans_topics.fit(all_)\n",
    "labels = kmeans_topics.labels_\n",
    "keywords_labels = {}\n",
    "for i,l in enumerate(labels):\n",
    "    if l in keywords_labels:\n",
    "        keywords_labels[l].append(i)\n",
    "    else:\n",
    "        keywords_labels[l] =[i] "
   ]
  },
  {
   "cell_type": "code",
   "execution_count": null,
   "id": "fabdb161-dd7a-4721-bc12-96823f4da401",
   "metadata": {},
   "outputs": [],
   "source": [
    "keywords"
   ]
  },
  {
   "cell_type": "code",
   "execution_count": 79,
   "id": "5d4e1e9a-db69-4060-8687-69ffe44be4c0",
   "metadata": {},
   "outputs": [
    {
     "name": "stdout",
     "output_type": "stream",
     "text": [
      "Len:  16\n",
      "Len:  16\n",
      "Len:  16\n",
      "Len:  16\n",
      "Len:  16\n",
      "Len:  16\n",
      "Len:  16\n"
     ]
    },
    {
     "data": {
      "image/png": "[encoded data removed]",
      "text/plain": [
       "<Figure size 640x480 with 1 Axes>"
      ]
     },
     "metadata": {},
     "output_type": "display_data"
    }
   ],
   "source": [
    "value_counts_keywords = {}\n",
    " \n",
    "keywords_counts = []\n",
    "cum_heights = {}\n",
    "colors = ['#191970', '#4169E1', '#4B0082', '#9966CC', '#E6E6FA', '#483D8B', '#8A2BE2']\n",
    "\n",
    "for i in range(7):\n",
    "    keywords=df_keywords.iloc[:,i].value_counts()\n",
    "    key_keyindices=[(count,word) for count, word in zip(keywords, keywords.index) if count >= keywords.quantile(0.95)]\n",
    "    \n",
    "    if len(key_keyindices) >15:\n",
    "        key_keyindices =key_keyindices[:16]\n",
    " \n",
    "    for c,w in key_keyindices:\n",
    "        if w not in cum_heights:\n",
    "            cum_heights[w] = 0\n",
    "    \n",
    "        plt.bar(w,c,bottom=cum_heights[w], color=colors[i])     \n",
    "        cum_heights[w] +=c\n",
    " \n",
    "        \n",
    "    plt.xticks(rotation=60,fontsize=7)\n",
    "    \n",
    "    #plt.legend()\n",
    "plt.title(\"\") \n",
    "plt.show() "
   ]
  },
  {
   "cell_type": "code",
   "execution_count": 162,
   "id": "168359bd-7b89-4806-b105-e4652a24fd39",
   "metadata": {},
   "outputs": [
    {
     "data": {
      "image/png": "[encoded data removed]",
      "text/plain": [
       "<Figure size 640x480 with 1 Axes>"
      ]
     },
     "metadata": {},
     "output_type": "display_data"
    }
   ],
   "source": [
    "value_counts_keywords = {}\n",
    "import matplotlib.patches as mpatches\n",
    "keywords_counts = []\n",
    "cum_heights = {}\n",
    "colors = ['#00008B', '#1E90FF', '#4682B4', '#87CEFA', '#B0C4DE', '#4169E1', '#ADD8E6']\n",
    "\n",
    "for i in range(7):\n",
    "    keywords=df_keywords.iloc[:,i].value_counts()\n",
    "    key_keyindices=[(count,word) for count, word in zip(keywords, keywords.index) if count >= keywords.quantile(0.95)]\n",
    "    \n",
    "    if len(key_keyindices) >15:\n",
    "        key_keyindices =key_keyindices[:16]\n",
    "        \n",
    "    for c,w in key_keyindices:\n",
    "        if w not in cum_heights:\n",
    "            cum_heights[w] = [0]*7\n",
    "    \n",
    "        plt.bar(w,c,bottom=cum_heights[w][i], color=colors[i])\n",
    "        cum_heights[w][i] += c\n",
    "        if i < 6:\n",
    "            cum_heights[w][i+1] = (cum_heights[w][i])\n",
    "       \n",
    "            \n",
    " \n",
    "        \n",
    "    plt.xticks(rotation=90,fontsize=6)\n",
    "    \n",
    "    #plt.legend()\n",
    " \n",
    "handle1 = mpatches.Patch(color='#00008B', label='Keyword 1')\n",
    "handle2 = mpatches.Patch(color='#1E90FF', label='Keyword 2')\n",
    "handle3 = mpatches.Patch(color='#4682B4', label='Keyword 3')\n",
    "handle4 = mpatches.Patch(color='#87CEFA', label='Keyword 4')\n",
    "handle5 = mpatches.Patch(color='#B0C4DE', label='Keyword 5')\n",
    "handle6 = mpatches.Patch(color='#4169E1', label='Keyword 6')\n",
    "handle7 = mpatches.Patch(color='#ADD8E6', label='Keyword 7')\n",
    "handles  = [handle1,handle2 ,handle3,handle4,handle5,handle6,handle7]\n",
    "plt.legend(handles=handles, title='# Keywords')\n",
    "plt.title('Keywords Ordered by Frequency of Most Importance')\n",
    "plt.show() "
   ]
  },
  {
   "cell_type": "code",
   "execution_count": null,
   "id": "d76e0456-147b-4f0b-b4b6-920009f8ad19",
   "metadata": {},
   "outputs": [],
   "source": [
    "cum_heightsc = cum_heights.copy()"
   ]
  },
  {
   "cell_type": "code",
   "execution_count": 81,
   "id": "cac7c6b2-d2c9-4e69-9798-b5ec7280a85e",
   "metadata": {},
   "outputs": [],
   "source": [
    "def get_total_counts(word, df_):\n",
    "    val = 0\n",
    "    for i in range(df.shape[1]):\n",
    "        val += get_col_count(i,word,df_)\n",
    "    return val ,word\n",
    "\n",
    "def get_col_count(col,word,df_):\n",
    "    d = df.iloc[:, col].value_counts()\n",
    "    return d.get(word,0)"
   ]
  },
  {
   "cell_type": "code",
   "execution_count": null,
   "id": "f1e0e781-d7c3-4092-a020-b6e9d006c17c",
   "metadata": {},
   "outputs": [],
   "source": [
    "sum_key = [get_total_counts(word, df_keywords) for word, lst in cum_heightsc.items()]\n",
    "sum_key = (sorted(sum_key))"
   ]
  },
  {
   "cell_type": "code",
   "execution_count": null,
   "id": "5dc3ae68-dff3-4d51-b67f-5224eebd7449",
   "metadata": {},
   "outputs": [],
   "source": [
    "np.unique(labels, return_counts=True)"
   ]
  },
  {
   "cell_type": "markdown",
   "id": "3e4bf7d7-8042-4312-a37e-3718666d49ec",
   "metadata": {},
   "source": [
    "# TSNE"
   ]
  },
  {
   "cell_type": "code",
   "execution_count": 88,
   "id": "d6863d02-eaa9-4f66-8843-6d4fde4ce048",
   "metadata": {},
   "outputs": [],
   "source": [
    "glove_path ='glove.6B.100d.txt'"
   ]
  },
  {
   "cell_type": "code",
   "execution_count": 89,
   "id": "56370334-81da-4116-9e15-80f6c447ee88",
   "metadata": {},
   "outputs": [],
   "source": [
    "embeddings_dict = {}\n",
    "\n",
    "vectors =[]\n",
    "with open(f'{glove_path}', 'r') as f:\n",
    "    for line in f:\n",
    "        values = line.split()\n",
    "        word = values[0]\n",
    "        vector = np.asarray(values[1:], \"float32\")\n",
    "        embeddings_dict[word] = vector\n",
    "\n",
    "    "
   ]
  },
  {
   "cell_type": "code",
   "execution_count": 90,
   "id": "e0f76ad8-21d5-4da1-8b27-e6a7f3ab30db",
   "metadata": {},
   "outputs": [],
   "source": [
    "def find_closest_embeddings(embedding):\n",
    "    return sorted(embeddings_dict.keys(), key=lambda word: spatial.distance.euclidean(embeddings_dict[word], embedding))"
   ]
  },
  {
   "cell_type": "code",
   "execution_count": 91,
   "id": "561b4827-2b80-4d89-8699-7b767b3dad67",
   "metadata": {},
   "outputs": [],
   "source": [
    "def find_distance_embedding(embedding_1, embedding_2):\n",
    "    return spatial.distance.euclidean(embedding_1, embedding_2)"
   ]
  },
  {
   "cell_type": "code",
   "execution_count": 94,
   "id": "53fe97c6-2841-40a3-9c0d-3512c336b08b",
   "metadata": {},
   "outputs": [],
   "source": [
    "keysw = df_keywords.iloc[0].tolist()\n",
    "matrix_distances = np.zeros((7,7)) \n",
    "for i in range(7):\n",
    "    for j in range(7):\n",
    "        dis = find_distance_embedding( embeddings_dict[keysw[i]], embeddings_dict[keysw[j]])\n",
    "        matrix_distances[i][j] = dis"
   ]
  },
  {
   "cell_type": "code",
   "execution_count": 96,
   "id": "351411d4-d215-4519-a72c-ec17b8691d5d",
   "metadata": {},
   "outputs": [],
   "source": [
    "uniques = []\n",
    "for column in df_keywords.columns:\n",
    "    uniques.extend(df_keywords[column].unique())\n",
    "   "
   ]
  },
  {
   "cell_type": "code",
   "execution_count": 97,
   "id": "4568f87b-3fe6-403c-b484-85ce5e0eb96a",
   "metadata": {},
   "outputs": [],
   "source": [
    "vectors = np.array([embeddings_dict.get(word,np.zeros(100,)) for word in uniques])"
   ]
  },
  {
   "cell_type": "code",
   "execution_count": 98,
   "id": "16ae7eae-516c-4b81-a2e3-96d454c4f898",
   "metadata": {},
   "outputs": [],
   "source": [
    "uniques_cleaned = []\n",
    "for w in uniques:\n",
    "    e = embeddings_dict.get(w,None)\n",
    "    if e is not None:\n",
    "        uniques_cleaned.append(w)"
   ]
  },
  {
   "cell_type": "code",
   "execution_count": 100,
   "id": "895f51c3-3a47-4e94-905c-9f069847d1d9",
   "metadata": {},
   "outputs": [],
   "source": [
    "tsne = TSNE(n_components=2, random_state=0)"
   ]
  },
  {
   "cell_type": "code",
   "execution_count": 101,
   "id": "3b58905f-7d8c-4d34-bdf6-84940398267f",
   "metadata": {},
   "outputs": [],
   "source": [
    "Y = tsne.fit_transform(vectors[:])"
   ]
  },
  {
   "cell_type": "code",
   "execution_count": 247,
   "id": "7d459f23-5a9c-47f8-b86c-525b3797fbdf",
   "metadata": {},
   "outputs": [
    {
     "data": {
      "text/plain": [
       "Text(0.5, 0, ' 2nd Component')"
      ]
     },
     "execution_count": 247,
     "metadata": {},
     "output_type": "execute_result"
    },
    {
     "data": {
      "image/png": "[encoded data removed]",
      "text/plain": [
       "<Figure size 640x480 with 1 Axes>"
      ]
     },
     "metadata": {},
     "output_type": "display_data"
    }
   ],
   "source": [
    "plt.scatter(Y[:,0],Y[:,1])\n",
    "\n",
    "plt.title(\"TSNE for GLove Vectors of Keywords\")\n",
    "plt.xlabel(\"1st Component\")\n",
    "plt.xlabel(\" 2nd Component\")"
   ]
  },
  {
   "cell_type": "code",
   "execution_count": 272,
   "id": "64e7c386-d00b-4eb9-8f4f-9bcb42eea286",
   "metadata": {},
   "outputs": [],
   "source": [
    "hdb = HDBSCAN(min_cluster_size=5)\n",
    "hdb.fit(vectors)\n",
    "labels = hdb.labels_"
   ]
  },
  {
   "cell_type": "code",
   "execution_count": 271,
   "id": "500a6496-2329-4eb9-bf6f-4eddd8a71965",
   "metadata": {},
   "outputs": [
    {
     "name": "stdout",
     "output_type": "stream",
     "text": [
      "# labels: 204, # unique keywords: 3188\n"
     ]
    }
   ],
   "source": [
    "len_unique = len(set(labels))\n",
    "print(f\"# labels: {len_unique}, # unique keywords: {len(labels)}\")\n",
    "labels_unique = list(set(int(label) for label in labels))"
   ]
  },
  {
   "cell_type": "code",
   "execution_count": 159,
   "id": "75793113-3488-4d7c-930b-d9f0afdf7a5d",
   "metadata": {},
   "outputs": [
    {
     "data": {
      "text/plain": [
       "(0.5459217287420775, 0.7340782712579226)"
      ]
     },
     "execution_count": 159,
     "metadata": {},
     "output_type": "execute_result"
    }
   ],
   "source": [
    "ci_low, ci_high = smp.proportion_confint(64, 100, alpha=0.05, method='normal')\n",
    "ci_low, ci_high"
   ]
  },
  {
   "cell_type": "code",
   "execution_count": null,
   "id": "87e51b79-7ae6-41de-8af6-6b02bda354d6",
   "metadata": {},
   "outputs": [],
   "source": [
    "plt.scatter(Y[:,0],Y[:,1])\n",
    "for label, x, y in zip(labels, Y[:, 0], Y[:, 1]):\n",
    "    plt.annotate(label, xy=(x, y), xytext=(0, 0), textcoords=\"offset points\", fontsize=0)\n",
    "    plt.title(\"TSNE for GLove Vectors of Keywords\")\n",
    "    plt.xlabel(\"1st Component\")\n",
    "    plt.xlabel(\" 2nd Component\")"
   ]
  },
  {
   "cell_type": "code",
   "execution_count": 274,
   "id": "d55af73d-3c0b-41f9-9702-1849b13ba1d5",
   "metadata": {},
   "outputs": [],
   "source": [
    "labels_hdbscan = {}\n",
    "for l, w in zip(labels, uniques_cleaned):\n",
    "    if l not in labels_hdbscan:\n",
    "        labels_hdbscan[l]=[w]\n",
    "    else:\n",
    "        labels_hdbscan[l].append(w)\n",
    "    "
   ]
  },
  {
   "cell_type": "code",
   "execution_count": 320,
   "id": "0eaf6c25-6f5e-4945-be05-256eb9ce35d2",
   "metadata": {},
   "outputs": [],
   "source": [
    "agglomerative_avg = AgglomerativeClustering(distance_threshold=0,n_clusters=None,linkage='average').fit(vectors)\n",
    "agglomerative_com = AgglomerativeClustering(distance_threshold=0,n_clusters=None,linkage='complete').fit(vectors)"
   ]
  },
  {
   "cell_type": "code",
   "execution_count": 299,
   "id": "be79d288-8b75-4ba4-9834-e1b6f5d8a795",
   "metadata": {},
   "outputs": [],
   "source": [
    "labels = agglomerative_avg.labels_"
   ]
  },
  {
   "cell_type": "code",
   "execution_count": 303,
   "id": "f0d7dbf4-3bd4-4ea1-a93e-3b47f393bca4",
   "metadata": {},
   "outputs": [],
   "source": [
    "def plot_dendrogram(model, **kwargs):\n",
    "    # Create linkage matrix and then plot the dendrogram\n",
    "    # create the counts of samples under each node\n",
    "    counts = np.zeros(model.children_.shape[0])\n",
    "    n_samples = len(model.labels_)\n",
    "    for i, merge in enumerate(model.children_):\n",
    "        current_count = 0\n",
    "        for child_idx in merge:\n",
    "            if child_idx < n_samples:\n",
    "                current_count += 1  # leaf node\n",
    "            else:\n",
    "                current_count += counts[child_idx - n_samples]\n",
    "        counts[i] = current_count\n",
    "\n",
    "    linkage_matrix = np.column_stack([model.children_, model.distances_,\n",
    "                                      counts]).astype(float)\n",
    "\n",
    "    # Plot the corresponding dendrogram\n",
    "    dendrogram(linkage_matrix, **kwargs)\n",
    "    #den_dic = dendrogram(linkage_matrix, **kwargs)\n",
    "    #return den_dic"
   ]
  },
  {
   "cell_type": "code",
   "execution_count": 321,
   "id": "901120be-4817-4a4c-88f1-9ac56f1cfbf2",
   "metadata": {},
   "outputs": [
    {
     "data": {
      "image/png": "[encoded data removed]",
      "text/plain": [
       "<Figure size 640x480 with 1 Axes>"
      ]
     },
     "metadata": {},
     "output_type": "display_data"
    }
   ],
   "source": [
    "plot_dendrogram(agglomerative_avg, truncate_mode='level', p=17)"
   ]
  },
  {
   "cell_type": "code",
   "execution_count": 325,
   "id": "de8b7c1f-fdc8-4209-87fb-cf51eedfeae8",
   "metadata": {},
   "outputs": [
    {
     "data": {
      "image/png": "[encoded data removed]",
      "text/plain": [
       "<Figure size 640x480 with 1 Axes>"
      ]
     },
     "metadata": {},
     "output_type": "display_data"
    }
   ],
   "source": [
    "plot_dendrogram(agglomerative_com, truncate_mode='level', p=7)"
   ]
  },
  {
   "cell_type": "code",
   "execution_count": 338,
   "id": "119692df-a368-40f3-a49d-79a9f746fa88",
   "metadata": {},
   "outputs": [],
   "source": [
    "agglomerative_com = AgglomerativeClustering(n_clusters=10,linkage='complete').fit(vectors)\n",
    "labels = agglomerative_com.labels_"
   ]
  },
  {
   "cell_type": "code",
   "execution_count": 334,
   "id": "b404d6fa-b620-4312-a09b-3a0cbbba838f",
   "metadata": {},
   "outputs": [],
   "source": [
    "labels_unique = list(set(int(label) for label in labels))"
   ]
  },
  {
   "cell_type": "code",
   "execution_count": 332,
   "id": "2cb5c16e-1bba-4ee1-bd2b-52dae6dca69f",
   "metadata": {},
   "outputs": [],
   "source": [
    "def make_dictionary_(labels, uniques_cleaned=uniques_cleaned):\n",
    "    labels_agglo_ward = {}\n",
    "    for l, w in zip(labels, uniques_cleaned):\n",
    "        if l not in labels_agglo_ward:\n",
    "            labels_agglo_ward[l]=[w]\n",
    "        else:\n",
    "            labels_agglo_ward[l].append(w)\n",
    "    return labels_agglo_ward"
   ]
  },
  {
   "cell_type": "code",
   "execution_count": 103,
   "id": "44837880-0c7b-4e12-8672-f01ebf94fab2",
   "metadata": {},
   "outputs": [],
   "source": [
    "df_keywords.drop([\"mean\"], axis=1,inplace=True)"
   ]
  },
  {
   "cell_type": "code",
   "execution_count": 104,
   "id": "f36dc567-3f28-476a-a662-ba1bbedd3eb2",
   "metadata": {},
   "outputs": [],
   "source": [
    "df_embeddings_dic = {}\n",
    "df_embeddings = pd.DataFrame(columns=df_keywords.columns)\n",
    "for col in df_keywords.columns:\n",
    "    df_embeddings[col] = df_keywords[col].apply(lambda x: embeddings_dict.get(x,(100,)) )\n",
    " "
   ]
  },
  {
   "cell_type": "code",
   "execution_count": null,
   "id": "8101a2dc-45a2-4ff7-9947-2388bb889566",
   "metadata": {},
   "outputs": [],
   "source": [
    "rows =[]\n",
    "row = []\n",
    " \n",
    "for i in df_keywords.index: #for row\n",
    "    row= []\n",
    "    for col in df_keywords.columns: # for col\n",
    "        array = df_embeddings.at[i,col]\n",
    "        row.extend(array)\n",
    "    rows.append(row)\n",
    "        \n",
    "flattened_embeddings = pd.DataFrame(rows)       \n",
    "flattened_embeddings = flattened_embeddings.fillna(0)       "
   ]
  },
  {
   "cell_type": "code",
   "execution_count": 423,
   "id": "51129200-6f85-4a99-94fc-830aa3a8f3da",
   "metadata": {},
   "outputs": [],
   "source": [
    "hdb = HDBSCAN(min_cluster_size=7, metric = 'l1')\n",
    "hdb.fit(flattened_embeddings)\n",
    "labels = hdb.labels_"
   ]
  },
  {
   "cell_type": "code",
   "execution_count": 422,
   "id": "bed5b686-b0a8-48e2-9e38-6510f572ccab",
   "metadata": {},
   "outputs": [
    {
     "name": "stdout",
     "output_type": "stream",
     "text": [
      "Average:  17\n",
      "ward:  35\n"
     ]
    }
   ],
   "source": [
    "agglomerative_avg = AgglomerativeClustering(n_clusters=17,linkage='average').fit(flattened_embeddings)# ,\n",
    "print(\"Average: \", len(set(agglomerative_avg.labels_)))\n",
    "labels = agglomerative_avg.labels_\n",
    "agglomerative_com = AgglomerativeClustering(n_clusters=35,linkage='ward').fit(flattened_embeddings)\n",
    "print(\"ward: \", len(set(agglomerative_com.labels_)))\n",
    "labels = agglomerative_com.labels_"
   ]
  },
  {
   "cell_type": "code",
   "execution_count": null,
   "id": "16508b1b-49bf-4a5a-bbeb-37f22178ec25",
   "metadata": {},
   "outputs": [],
   "source": [
    "# check against instance by instnance to see how well classifies\n",
    "for i, l in zip(df_keywords.index,labels):\n",
    "    if l == np.int64(16):\n",
    "        print(df_keywords.iloc[i])"
   ]
  },
  {
   "cell_type": "code",
   "execution_count": 419,
   "id": "750b7da0-c553-4958-bb8b-a4efa6baef1c",
   "metadata": {},
   "outputs": [
    {
     "data": {
      "text/plain": [
       "Counter({np.int64(-1): 849})"
      ]
     },
     "execution_count": 419,
     "metadata": {},
     "output_type": "execute_result"
    }
   ],
   "source": [
    "dbscan = DBSCAN(eps=7.5, min_samples=4).fit(flattened_embeddings)\n",
    "dbscan_labels = dbscan.labels_"
   ]
  },
  {
   "cell_type": "code",
   "execution_count": null,
   "id": "38372c87-9102-45c1-bc02-f28b8d89e4b5",
   "metadata": {},
   "outputs": [],
   "source": [
    "x= df_embeddings.head(10)\n",
    "vectors = []\n",
    "for i in x.index:\n",
    "    mean = df_embeddings.iloc[i].sum() / df_embeddings.shape[1]\n",
    "    vectors.append(df_embeddings.iloc[i])\n",
    "    y = find_closest_embeddings(mean)\n",
    "    y= y[:10]\n",
    " "
   ]
  },
  {
   "cell_type": "code",
   "execution_count": 111,
   "id": "2a504278-c335-41e9-8905-468078783fbf",
   "metadata": {},
   "outputs": [],
   "source": [
    "def find_closest_embeddings_(embedding):\n",
    "    return sorted(embeddings_dict.keys(), key=lambda word: spatial.distance.euclidean(embeddings_dict[word], embedding))"
   ]
  },
  {
   "cell_type": "code",
   "execution_count": null,
   "id": "0cc321f2-cd29-43fc-b2e0-1eb6118c87b8",
   "metadata": {},
   "outputs": [],
   "source": []
  },
  {
   "cell_type": "markdown",
   "id": "f705752c-00ae-408b-9fb6-5487a9cb73d4",
   "metadata": {},
   "source": [
    "# Extracting Topics"
   ]
  },
  {
   "cell_type": "code",
   "execution_count": 166,
   "id": "e4260a7b-d463-458b-87f8-3cdb1caf8e09",
   "metadata": {},
   "outputs": [],
   "source": [
    "topics = [\"family\", \"parents\", \"kids\", \"children\", \"money\",\n",
    "          \"relationship\", \"boyfriend\",\"girlfriend\",\"ethic\", \"workplace\",\"wedding\", \"pets\", \"norms\", \"etiquette\",\n",
    "          \"neighbor\",\"married\",\"friendship\", \"friend\",\"animal\",\"pet\",\"animals\",\"health\",\"friends\",\"husband\", \"wife\",\"fiance\",\n",
    "         \"coworker\",\"roommate\",\"boundaries\",\"rules\", \"stranger\",\"disrespectful\", \"trust\", \"respect\", \"privacy\", \"responsability\"\n",
    "         , \"priorities\", \"chores\",\"grandparents\",\"grandpa\",\"grandma\", \"aunt\",\"uncle\",\"sister\",\"brother\",\"daughter\",\"son\",\"father\",\"son\",\"mother\",\"presure\",\"fiance\"] #,\"dad\",\"mom\" alcohol"
   ]
  },
  {
   "cell_type": "code",
   "execution_count": 167,
   "id": "2aba3de6-fc2a-4ca6-8cd0-6367d329a936",
   "metadata": {},
   "outputs": [],
   "source": [
    "topic_vectors = [embeddings_dict[word] for word in topics]"
   ]
  },
  {
   "cell_type": "code",
   "execution_count": 168,
   "id": "474ba120-75bd-432f-badd-2f5e164211e5",
   "metadata": {},
   "outputs": [],
   "source": [
    "selected_keyword = pd.DataFrame(\n",
    "    np.zeros((849, 2)),   \n",
    "    columns=[\"score\", \"keyword\"])\n",
    " \n",
    "selected_keyword[\"keyword\"] = selected_keyword[\"keyword\"].astype(str) \n",
    "\n",
    "for i in df_keywords.index: # rows\n",
    " \n",
    "    vectors_i = df_embeddings.iloc[i] \n",
    "    group = []\n",
    "    weights = list(df_keywords_scores.iloc[i])\n",
    "    weights = [round((weight/sum(weights))+1, 3) for weight in weights]\n",
    "\n",
    "    for i_c, v in enumerate(vectors_i): # cols\n",
    "        min_dis = 10\n",
    "        min_dis_w = ''\n",
    "        tupples_dis_words = []\n",
    "        temp = {}\n",
    "        for t, t_w in zip(topic_vectors, topics):\n",
    "            dis = find_distance_embedding(t,v)            \n",
    "            tupple_dis_w = (float(dis),t_w)\n",
    "            tupples_dis_words.append(tupple_dis_w)\n",
    "            \n",
    "        tupples_dis_words = sorted(tupples_dis_words)\n",
    "        group.append(tupples_dis_words[0])     \n",
    "\n",
    "    i_, w_ = zip(*group)\n",
    "    i_ = np.array(i_)\n",
    "    i_ = i_.reshape(-1,1)\n",
    "    i_ = scaler.fit_transform(i_)\n",
    "    i_ = [1 - int_i_ for int_i_ in i_]\n",
    "    group = list(zip(i_,w_))\n",
    "    group_weighted = [((score_i * weight), word_i)  for weight,(score_i, word_i) in zip(weights,group)]\n",
    "    group_weighted = sorted(group_weighted, reverse=True)\n",
    " \n",
    "    score = group_weighted[0][0]\n",
    "    score =score[0]\n",
    "    selected_keyword.at[i,\"score\"]=  score\n",
    "    selected_keyword.at[i,\"keyword\"]= str(group_weighted[0][1])\n",
    " "
   ]
  },
  {
   "cell_type": "code",
   "execution_count": 153,
   "id": "a825b3d7-6028-4674-aadb-a8cf4d92cf0b",
   "metadata": {},
   "outputs": [],
   "source": [
    "def normalize(val, lst):\n",
    "    return ( val - max(lst) ) / (max(lst) - min(lst))"
   ]
  },
  {
   "cell_type": "code",
   "execution_count": 207,
   "id": "3eac7e53-cf7c-4d43-b9ee-e89652126e63",
   "metadata": {},
   "outputs": [],
   "source": [
    "pd_to_excel = pd.DataFrame(selected_keyword)\n",
    "pd_to_excel[\"text\"] = posts_list"
   ]
  },
  {
   "cell_type": "code",
   "execution_count": 208,
   "id": "869f7f1e-54fb-41df-bb10-347b74d7fe33",
   "metadata": {},
   "outputs": [],
   "source": [
    "pd_to_excel.to_csv('keyword_post.csv', index=False)"
   ]
  },
  {
   "cell_type": "code",
   "execution_count": 209,
   "id": "631ae84e-4f6a-490b-a2e8-5733c2d88e79",
   "metadata": {},
   "outputs": [],
   "source": [
    "value_counts = pd_to_excel[\"keyword\"].value_counts()"
   ]
  },
  {
   "cell_type": "code",
   "execution_count": 210,
   "id": "2e10a397-bd51-477b-ac61-3c1e7944ef3c",
   "metadata": {},
   "outputs": [],
   "source": [
    "value_counts_df = value_counts.reset_index()\n",
    "value_counts_df.columns = ['keyword', 'count']\n",
    "value_counts_df = value_counts_df.set_index('keyword')  "
   ]
  },
  {
   "cell_type": "code",
   "execution_count": 211,
   "id": "484333ab-8149-4917-bbe4-fd00b44de310",
   "metadata": {},
   "outputs": [
    {
     "data": {
      "text/plain": [
       "849"
      ]
     },
     "execution_count": 211,
     "metadata": {},
     "output_type": "execute_result"
    }
   ],
   "source": [
    "sum(pd_to_excel[\"keyword\"].value_counts())"
   ]
  },
  {
   "cell_type": "code",
   "execution_count": 213,
   "id": "b982dfb6-c3ae-4fad-acd9-c0335771446f",
   "metadata": {},
   "outputs": [
    {
     "name": "stdout",
     "output_type": "stream",
     "text": [
      "Family Count: 319\n",
      "Friends Count: 121\n",
      "Relationship Count: 112\n",
      "Work Count: 44\n",
      "Stranger Count: 63\n",
      "Money Count: 60\n",
      "Rules Count: 88\n",
      "Pet Count: 9\n",
      "Health Count: 16\n",
      "Living Count: 17\n"
     ]
    }
   ],
   "source": [
    "correct_df = \n",
    "value_counts_df = value_counts.reset_index()\n",
    "value_counts_df.columns = ['keyword', 'count']\n",
    "value_counts_df = value_counts_df.set_index('keyword')   \n",
    "\n",
    " \n",
    "family_count = value_counts_df.loc[[\"family\", \"brother\", \"mother\", \"kids\", \"daughter\", \n",
    "                                    \"aunt\", \"father\", \"uncle\", \"son\", \"children\", \n",
    "                                    \"grandma\", \"parents\",\"sister\"], \"count\"].sum()\n",
    "\n",
    "friends_count = value_counts_df.loc[[\"friends\", \"friend\", \"friendship\"], \"count\"].sum()\n",
    "\n",
    "relationship_count = value_counts_df.loc[[\"relationship\", \"wedding\", \"wife\", \"husband\",\"fiance\",\"boyfriend\",\"girlfriend\"], \"count\"].sum()\n",
    "\n",
    "work_count = value_counts_df.loc[[\"coworker\", \"workplace\"], \"count\"].sum()\n",
    "\n",
    "stranger_count = value_counts_df.loc[\"stranger\", \"count\"]\n",
    "\n",
    "money_count = value_counts_df.loc[\"money\", \"count\"]\n",
    "\n",
    "rules_count = value_counts_df.loc[[\"rules\", \"presure\", \"respect\", \"priorities\", \n",
    "                                   \"trust\", \"privacy\", \"boundaries\", \"disrespectful\"], \"count\"].sum()\n",
    "\n",
    "pet_count = value_counts_df.loc[\"pet\", \"count\"]\n",
    "\n",
    "health_count = value_counts_df.loc[\"health\", \"count\"]\n",
    "\n",
    "living_count = value_counts_df.loc[[\"roommate\", \"chores\", \"responsability\", \"neighbor\"], \"count\"].sum()\n",
    "\n",
    "print(\"Family Count:\", family_count)\n",
    "print(\"Friends Count:\", friends_count)\n",
    "print(\"Relationship Count:\", relationship_count)\n",
    "print(\"Work Count:\", work_count)\n",
    "print(\"Stranger Count:\", stranger_count)\n",
    "print(\"Money Count:\", money_count)\n",
    "print(\"Rules Count:\", rules_count)\n",
    "print(\"Pet Count:\", pet_count)\n",
    "print(\"Health Count:\", health_count)\n",
    "print(\"Living Count:\", living_count)\n"
   ]
  },
  {
   "cell_type": "code",
   "execution_count": 214,
   "id": "ce0d6cc3-0852-46bd-b638-75529bea9c08",
   "metadata": {},
   "outputs": [
    {
     "data": {
      "text/plain": [
       "849"
      ]
     },
     "execution_count": 214,
     "metadata": {},
     "output_type": "execute_result"
    }
   ],
   "source": [
    "family_count + friends_count + relationship_count + work_count +stranger_count + money_count +rules_count+pet_count+health_count+living_count"
   ]
  },
  {
   "cell_type": "code",
   "execution_count": null,
   "id": "b3517317-0e15-4610-afb9-89734d122ce7",
   "metadata": {},
   "outputs": [],
   "source": []
  },
  {
   "cell_type": "code",
   "execution_count": 203,
   "id": "3d02b493-7c50-4ff2-8927-8e2d198070f2",
   "metadata": {},
   "outputs": [],
   "source": [
    "names = [\n",
    "    \"family\",     \n",
    "    \"friends\",      \n",
    "    \"relationship\", \n",
    "    \"rules\", \n",
    "              \n",
    "    \"stranger\",    \n",
    "    \"money\",      \n",
    "    \"work\",\n",
    "           \n",
    "    \"health\",       \n",
    "    \"living\",\n",
    "\"pet\",]\n",
    "heights = [family_count,friends_count, relationship_count,rules_count,stranger_count,money_count,work_count,\n",
    "           health_count,health_count,pet_count,]"
   ]
  },
  {
   "cell_type": "code",
   "execution_count": 206,
   "id": "9f21ed88-e947-4680-a7ec-f981ebb954ce",
   "metadata": {},
   "outputs": [
    {
     "data": {
      "text/plain": [
       "Text(0.5, 1.0, 'Frequency of Topic')"
      ]
     },
     "execution_count": 206,
     "metadata": {},
     "output_type": "execute_result"
    },
    {
     "data": {
      "image/png": "[encoded data removed]",
      "text/plain": [
       "<Figure size 640x480 with 1 Axes>"
      ]
     },
     "metadata": {},
     "output_type": "display_data"
    }
   ],
   "source": [
    "plt.bar(names,heights)\n",
    "plt.xticks(rotation=45)\n",
    "plt.ylabel(\"Frequency\")\n",
    "plt.xlabel(\"Topics\")\n",
    "plt.title(\"Frequency of Topic\")"
   ]
  }
 ],
 "metadata": {
  "kernelspec": {
   "display_name": "Python 3 (ipykernel)",
   "language": "python",
   "name": "python3"
  },
  "language_info": {
   "codemirror_mode": {
    "name": "ipython",
    "version": 3
   },
   "file_extension": ".py",
   "mimetype": "text/x-python",
   "name": "python",
   "nbconvert_exporter": "python",
   "pygments_lexer": "ipython3",
   "version": "3.12.4"
  }
 },
 "nbformat": 4,
 "nbformat_minor": 5
}
