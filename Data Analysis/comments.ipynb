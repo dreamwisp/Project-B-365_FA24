{
 "cells": [
  {
   "cell_type": "code",
   "execution_count": 4,
   "id": "c8273c63-1db6-48a2-a584-3c8aa931673f",
   "metadata": {},
   "outputs": [],
   "source": [
    "import sqlite3, io,tqdm\n",
    "import pandas as pd\n",
    "import matplotlib.pyplot as plt\n",
    "import numpy as np\n",
    "from collections import Counter\n",
    "from vaderSentiment.vaderSentiment import SentimentIntensityAnalyzer"
   ]
  },
  {
   "cell_type": "code",
   "execution_count": 362,
   "id": "979a41b2-45ea-4996-bcfc-ae32bc36e8b0",
   "metadata": {},
   "outputs": [],
   "source": [
    "sql_db_path = 'SubredditData.db'"
   ]
  },
  {
   "cell_type": "code",
   "execution_count": 363,
   "id": "cd6b837b-51e2-4c39-b2e8-5e16cbd23164",
   "metadata": {},
   "outputs": [],
   "source": [
    "connection = sqlite3.connect('SubredditData.db')\n",
    "cursor = connection.cursor()"
   ]
  },
  {
   "cell_type": "code",
   "execution_count": 364,
   "id": "ddf6d9df-08ff-49b1-81df-3f575ad194e3",
   "metadata": {},
   "outputs": [
    {
     "name": "stdout",
     "output_type": "stream",
     "text": [
      "Number of tables: 850\n"
     ]
    }
   ],
   "source": [
    "cursor.execute(\"SELECT name FROM sqlite_master WHERE type='table';\")\n",
    "tables = cursor.fetchall()\n",
    "print(f\"Number of tables: {len(tables)}\")"
   ]
  },
  {
   "cell_type": "code",
   "execution_count": 365,
   "id": "9284d494-8563-434d-ba7b-c8d69a94ac43",
   "metadata": {},
   "outputs": [],
   "source": [
    "df = pd.read_sql_query(\"SELECT * FROM AmItheAsshole\", connection)"
   ]
  },
  {
   "cell_type": "code",
   "execution_count": 366,
   "id": "0a14a270-f751-4122-85a7-0e4925c05ed8",
   "metadata": {},
   "outputs": [
    {
     "name": "stdout",
     "output_type": "stream",
     "text": [
      "<class 'pandas.core.frame.DataFrame'>\n",
      "RangeIndex: 849 entries, 0 to 848\n",
      "Data columns (total 9 columns):\n",
      " #   Column             Non-Null Count  Dtype \n",
      "---  ------             --------------  ----- \n",
      " 0   post_id            849 non-null    object\n",
      " 1   url                849 non-null    object\n",
      " 2   comment_count      849 non-null    int64 \n",
      " 3   created_timestamp  849 non-null    object\n",
      " 4   title              0 non-null      object\n",
      " 5   ups                849 non-null    int64 \n",
      " 6   author             849 non-null    object\n",
      " 7   text_content       849 non-null    object\n",
      " 8   post_title         849 non-null    object\n",
      "dtypes: int64(2), object(7)\n",
      "memory usage: 59.8+ KB\n"
     ]
    }
   ],
   "source": [
    "df.info()"
   ]
  },
  {
   "cell_type": "markdown",
   "id": "1e3515c3-9f6c-4fb2-b19c-079a2b67314d",
   "metadata": {},
   "source": [
    "# Extract Tables"
   ]
  },
  {
   "cell_type": "code",
   "execution_count": null,
   "id": "6b3efea4-0f80-4402-825b-db2e18ebb82e",
   "metadata": {},
   "outputs": [],
   "source": [
    "comments_tables_df = []\n",
    " \n",
    "for table_name in tables[1:]: # for table names\n",
    "    # fetch table\n",
    "    table = pd.read_sql_query(f\"SELECT * FROM {table_name[0]}\", connection)\n",
    " \n",
    "    clean = []\n",
    "    for i in table.index: #for row in df\n",
    "        temp = table.iloc[i]\n",
    "  \n",
    "        if table.at[i, \"author\"]=='Judgement_Bot_AITA':\n",
    "            # print(table.at[i,\"author\"])\n",
    "            continue\n",
    "        if table.at[i,\"author\"] == 'AutoModerator':\n",
    "            # print(table.at[i,\"author\"])\n",
    "            continue\n",
    "        table.at[i, \"content\"] = table.at[i, \"content\"].decode('utf-8')\n",
    "        clean.append(temp)\n",
    "    comments_tables_df.append(clean)\n",
    "print(len(comments_tables_df))\n",
    "\n",
    "comments_tables_df[0]"
   ]
  },
  {
   "cell_type": "code",
   "execution_count": null,
   "id": "7f39195b-3add-4b0d-a75a-ce9f820890f4",
   "metadata": {},
   "outputs": [],
   "source": [
    "table = pd.DataFrame(comments_tables_df[2])\n",
    "#print(table)\n",
    "def check_single_table(table):\n",
    "    print(table)\n",
    "    asshole_existence = []\n",
    "    table[\"content\"] = table[\"content\"].apply(lambda x: x.decode('utf-8') if isinstance(x, bytes) else x)\n",
    "    table[\"content\"] = table[\"content\"].str.lower()\n",
    "    comment_content = table[\"content\"]\n",
    "    table[\"A no A\"] = None\n",
    "    table.loc[comment_content.str.contains('yta',na=False), \"A no A\"] = 'yta'\n",
    "    table.loc[comment_content.str.contains('nta', na=False), \"A no A\"] = 'nta'\n",
    "\n",
    " )\n",
    "    return table\n",
    " \n",
    "check_single_table(table)"
   ]
  },
  {
   "cell_type": "code",
   "execution_count": 370,
   "id": "c248ab2e-ca3f-432a-b038-4b86bd89d185",
   "metadata": {},
   "outputs": [],
   "source": [
    "Remove "
   ]
  },
  {
   "cell_type": "code",
   "execution_count": 371,
   "id": "4ee505ec-a1f1-4e5e-8875-5cff130c1ae0",
   "metadata": {},
   "outputs": [],
   "source": [
    "def remove_mod_comments(table_name, connection):\n",
    "            table = pd.read_sql_query(f\"SELECT * FROM {table_name}\", connection)\n",
    "            clean = []\n",
    "            print(\"Rem Mod Type: \",type(table))\n",
    "            for i in table.index: #for row in df\n",
    "                temp = table.iloc[i]\n",
    "       \n",
    "                if table.at[i, \"author\"]=='Judgement_Bot_AITA':\n",
    "                    continue\n",
    "                if table.at[i,\"author\"] == 'AutoModerator':\n",
    "                    continue            \n",
    "                table.at[i, \"content\"] = table.at[i, \"content\"].decode('utf-8')\n",
    "                clean.append(temp)\n",
    "        \n",
    "            return clean"
   ]
  },
  {
   "cell_type": "code",
   "execution_count": null,
   "id": "3066e4f4-8b53-49a2-9d93-e0fc5030d0f1",
   "metadata": {},
   "outputs": [],
   "source": [
    "def make_A_no_A(tables,connection):\n",
    "    \n",
    "    lists_of_df = []\n",
    "    for table_name in tables[1:]: # for table names, 1 is original post lists\n",
    "    # fetch table\n",
    "        table_name = table_name[0]\n",
    "        clean_table_list = remove_mod_comments(table_name, connection)\n",
    "        if clean_table_list:\n",
    "            table = pd.DataFrame(clean_table_list)\n",
    "            table = check_single_table(table)\n",
    "        else:\n",
    "            table = []\n",
    "        lists_of_df.append(table)\n",
    "    return lists_of_df\n",
    "\n",
    "lists_of_df = make_A_no_A(tables,connection)"
   ]
  },
  {
   "cell_type": "markdown",
   "id": "0d9b7412-62ee-4ade-803a-0da0ee726e45",
   "metadata": {},
   "source": [
    "Va"
   ]
  },
  {
   "cell_type": "code",
   "execution_count": null,
   "id": "1999e396-b75d-4169-8f03-abe4ca56e00c",
   "metadata": {},
   "outputs": [],
   "source": [
    "def get_polarity(sentences):\n",
    "    \n",
    "    analyzer = SentimentIntensityAnalyzer()\n",
    "    for sentence in sentences:\n",
    "        vs = analyzer.polarity_scores(sentence)\n",
    "        vs_lst.append(vs)\n",
    "    return vs_lst\n"
   ]
  },
  {
   "cell_type": "code",
   "execution_count": 374,
   "id": "0ebf5370-d746-4092-b740-c7c67a3f2714",
   "metadata": {},
   "outputs": [],
   "source": [
    "\n",
    "for table in lists_of_df:\n",
    "    \n",
    "    # add column\n",
    "    if isinstance(table, list):\n",
    "        continue\n",
    "    polarity_list = get_polarity(table[\"content\"])\n",
    "    #print(\"polarity list: \", polarity_list)\n",
    "    for i, pol_d in enumerate(polarity_list):\n",
    "        # print(pol_d)\n",
    "        # print(type(pol_d))\n",
    "        compound = pol_d.pop('compound')\n",
    "        table.at[i,\"vader_class\"] = max(pol_d, key=pol_d.get)\n",
    "        table.at[i,\"neu_score\"] = pol_d[\"neu\"]\n",
    "        table.at[i,\"pos_score\"] = pol_d[\"pos\"]\n",
    "        table.at[i,\"neg_score\"] = pol_d[\"neg\"]"
   ]
  },
  {
   "cell_type": "code",
   "execution_count": 377,
   "id": "d6589461-d55d-442e-96e6-7b23408dd2ee",
   "metadata": {},
   "outputs": [],
   "source": [
    "# get mode of class\n",
    "vader_classes_overall = []\n",
    "pos_scores = []\n",
    "neg_scores = []\n",
    "a_no_a_list = []\n",
    "for table in lists_of_df:\n",
    "    if isinstance(table, list):\n",
    "        pos_scores.append(None)\n",
    "        neg_scores.append(None)\n",
    "        a_no_a_list.append(None)\n",
    "        vader_classes_overall.append(None)\n",
    "        continue\n",
    "    mode_vader = table[\"vader_class\"].mode() \n",
    "    a_no_a = table[\"A no A\"].mode() \n",
    "    if not a_no_a.empty:\n",
    "        a_no_a = a_no_a[0]\n",
    "    else:\n",
    "        a_no_a = None\n",
    "    avg_pos = table[\"pos_score\"].mean()\n",
    "    avg_neg = table[\"neg_score\"].mean()\n",
    "    pos_scores.append(avg_pos)\n",
    "    neg_scores.append(avg_neg)\n",
    "    a_no_a_list.append(a_no_a)\n",
    "    vader_classes_overall.append(mode_vader[0])"
   ]
  },
  {
   "cell_type": "code",
   "execution_count": 378,
   "id": "fcb67f4a-fa95-4b74-9965-e0221e8663bb",
   "metadata": {},
   "outputs": [
    {
     "data": {
      "text/plain": [
       "Counter({'neu': 825, None: 23, 'neg': 1})"
      ]
     },
     "execution_count": 378,
     "metadata": {},
     "output_type": "execute_result"
    }
   ],
   "source": [
    "\n",
    "\n",
    "counter = Counter(vader_classes_overall)\n"
   ]
  },
  {
   "cell_type": "code",
   "execution_count": 379,
   "id": "e9ffa9ae-e705-4ac8-a64c-25affa7ecf0f",
   "metadata": {},
   "outputs": [],
   "source": [
    "pos_scores_clean = [s for s in pos_scores if s]\n",
    "neg_scores_clean = [s for s in neg_scores if s]"
   ]
  },
  {
   "cell_type": "code",
   "execution_count": 380,
   "id": "f4c49973-8c7b-4759-8e5c-1da229299017",
   "metadata": {},
   "outputs": [
    {
     "data": {
      "text/plain": [
       "Text(0, 0.5, 'Score')"
      ]
     },
     "execution_count": 380,
     "metadata": {},
     "output_type": "execute_result"
    },
    {
     "data": {
      "image/png": "[encoded data removed]",
      "text/plain": [
       "<Figure size 640x480 with 1 Axes>"
      ]
     },
     "metadata": {},
     "output_type": "display_data"
    }
   ],
   "source": [
    "plt.boxplot([pos_scores_clean,neg_scores_clean],positions=[1,2])\n",
    "plt.xticks([1,2],['Positive Scores','Negative Scores'])\n",
    "plt.title(\"VADER Scores\")\n",
    "plt.ylabel(\"Score\")"
   ]
  },
  {
   "cell_type": "code",
   "execution_count": 406,
   "id": "b0b84e64-7d5e-4594-85de-e24d09b8d174",
   "metadata": {},
   "outputs": [],
   "source": [
    "keyword_df = pd.read_csv('keyword_post.csv')"
   ]
  },
  {
   "cell_type": "code",
   "execution_count": 407,
   "id": "ab96f030-be57-45d1-995b-e1f7dd39213f",
   "metadata": {},
   "outputs": [],
   "source": [
    "keyword_df.drop([\"score\"],axis=1,inplace=True)"
   ]
  },
  {
   "cell_type": "code",
   "execution_count": 408,
   "id": "6a91a8b5-c5c2-4e17-b0d5-8e44e69fd895",
   "metadata": {},
   "outputs": [
    {
     "name": "stdout",
     "output_type": "stream",
     "text": [
      "<class 'pandas.core.frame.DataFrame'>\n",
      "RangeIndex: 849 entries, 0 to 848\n",
      "Data columns (total 2 columns):\n",
      " #   Column   Non-Null Count  Dtype \n",
      "---  ------   --------------  ----- \n",
      " 0   keyword  849 non-null    object\n",
      " 1   text     849 non-null    object\n",
      "dtypes: object(2)\n",
      "memory usage: 13.4+ KB\n"
     ]
    }
   ],
   "source": [
    "keyword_df.info()"
   ]
  },
  {
   "cell_type": "code",
   "execution_count": null,
   "id": "0c3931f0-f634-4101-ad25-d01c5fb2509f",
   "metadata": {},
   "outputs": [],
   "source": []
  },
  {
   "cell_type": "code",
   "execution_count": null,
   "id": "35d8e57a-25d4-4dd9-8e8c-8a445e7a87aa",
   "metadata": {},
   "outputs": [],
   "source": []
  },
  {
   "cell_type": "code",
   "execution_count": 409,
   "id": "aa6c37d7-ba84-4584-b77e-b30cd04c1e02",
   "metadata": {},
   "outputs": [
    {
     "data": {
      "text/plain": [
       "array(['family', 'rules', 'brother', 'uncle', 'friend', 'money', 'kids',\n",
       "       'relationship', 'wedding', 'friends', 'health', 'workplace',\n",
       "       'aunt', 'mother', 'stranger', 'daughter', 'presure', 'coworker',\n",
       "       'wife', 'priorities', 'fiance', 'boyfriend', 'father', 'respect',\n",
       "       'roommate', 'privacy', 'son', 'girlfriend', 'neighbor', 'husband',\n",
       "       'pet', 'trust', 'sister', 'grandma', 'children', 'friendship',\n",
       "       'boundaries', 'chores', 'disrespectful', 'responsability',\n",
       "       'parents'], dtype=object)"
      ]
     },
     "execution_count": 409,
     "metadata": {},
     "output_type": "execute_result"
    }
   ],
   "source": [
    "keyword_df[\"keyword\"].unique()"
   ]
  },
  {
   "cell_type": "code",
   "execution_count": null,
   "id": "59d30111-3190-4afa-83e2-71b198baff56",
   "metadata": {},
   "outputs": [],
   "source": []
  },
  {
   "cell_type": "markdown",
   "id": "d5f5d637-091c-40a1-afba-ddb4190a14c1",
   "metadata": {},
   "source": [
    "# Group Words"
   ]
  },
  {
   "cell_type": "code",
   "execution_count": 416,
   "id": "fb1cee9f-feba-4dac-9d06-6e8b5e2fb92c",
   "metadata": {},
   "outputs": [],
   "source": [
    "keyword_df.loc[keyword_df[\"keyword\"].isin([\"brother\",\"mother\",\"kids\",\"daughter\",\"aunt\",\"father\",\"uncle\",\"son\",\"children\",\"grandma\",\"parents\",\"sister\"]),\"keyword\"] =\"family\"\n",
    "keyword_df.loc[keyword_df[\"keyword\"].isin([\"friend\",\"friendship\"]),\"keyword\"] =\"friends\"\n",
    "keyword_df.loc[keyword_df[\"keyword\"].isin([\"wedding\",\"wife\",\"husband\",\"fiance\",\"boyfriend\",\"girlfriend\"]),\"keyword\"] =\"relationship\"\n",
    "keyword_df.loc[keyword_df[\"keyword\"].isin([\"coworker\",\"workplace\"]),\"keyword\"] =\"work\"\n",
    "keyword_df.loc[keyword_df[\"keyword\"].isin([\"rules\",\"presure\",\"respect\",\"priorities\",\"trust\",\"privacy\",\"disrespectful\"]),\"keyword\"] =\"boundaries\"\n",
    "keyword_df.loc[keyword_df[\"keyword\"].isin([\"roommate\",\"chores\",\"responsability\",\"neighbor\"]),\"keyword\"] =\"living\""
   ]
  },
  {
   "cell_type": "code",
   "execution_count": 417,
   "id": "a4b9e246-2f4a-4d79-ad42-e20b3a4c5b1d",
   "metadata": {},
   "outputs": [],
   "source": [
    "keyword_df[\"A no A\"] = a_no_a_list\n",
    "keyword_df[\"Positive\"] = pos_scores\n",
    "keyword_df[\"Negative\"] = neg_scores"
   ]
  },
  {
   "cell_type": "code",
   "execution_count": null,
   "id": "bc8cf2f5-30b1-4a3c-be39-06aa0bab0ac6",
   "metadata": {},
   "outputs": [],
   "source": [
    "shape_ = keyword_df[keyword_df[\"A no A\"]=='nta'].shape[0]\n",
    "na_count = keyword_df[\"A no A\"].isna().sum()"
   ]
  },
  {
   "cell_type": "code",
   "execution_count": 398,
   "id": "369b48cf-f7b5-4371-a74f-7049074a36aa",
   "metadata": {},
   "outputs": [
    {
     "data": {
      "text/plain": [
       "array(['family', 'boundaries', 'friends', 'money', 'relationship',\n",
       "       'health', 'work', 'stranger', 'living', 'pet'], dtype=object)"
      ]
     },
     "execution_count": 398,
     "metadata": {},
     "output_type": "execute_result"
    }
   ],
   "source": [
    "keyword_df[\"keyword\"].unique()"
   ]
  },
  {
   "cell_type": "code",
   "execution_count": 399,
   "id": "d15164bc-e295-48fd-9b8f-4710e7867f04",
   "metadata": {},
   "outputs": [],
   "source": [
    "topics = ['family', 'boundaries', 'friends', 'money', 'relationship',\n",
    "       'health', 'work', 'stranger', 'living', 'pet']"
   ]
  },
  {
   "cell_type": "code",
   "execution_count": null,
   "id": "883d23f9-a35e-4f11-8bda-d7147a69ab73",
   "metadata": {},
   "outputs": [],
   "source": []
  },
  {
   "cell_type": "markdown",
   "id": "8bd207c0-640c-47b0-9c1a-0db3e87851dc",
   "metadata": {},
   "source": [
    "# Extract Gender & Age Data"
   ]
  },
  {
   "cell_type": "code",
   "execution_count": 420,
   "id": "e731e5b3-7369-461d-9bc1-6971ee86dfef",
   "metadata": {},
   "outputs": [],
   "source": [
    "gender_age_df = pd.read_csv('gender_age.csv')"
   ]
  },
  {
   "cell_type": "code",
   "execution_count": 421,
   "id": "cd98765c-ff3e-466f-86cd-ae212272a8cf",
   "metadata": {},
   "outputs": [
    {
     "name": "stdout",
     "output_type": "stream",
     "text": [
      "<class 'pandas.core.frame.DataFrame'>\n",
      "RangeIndex: 849 entries, 0 to 848\n",
      "Data columns (total 3 columns):\n",
      " #   Column  Non-Null Count  Dtype  \n",
      "---  ------  --------------  -----  \n",
      " 0   Age     550 non-null    float64\n",
      " 1   Gender  440 non-null    object \n",
      " 2   url     849 non-null    object \n",
      "dtypes: float64(1), object(2)\n",
      "memory usage: 20.0+ KB\n"
     ]
    }
   ],
   "source": [
    "gender_age_df.info()\n",
    "keyword_df[\"Age\"] = gender_age_df[\"Age\"]\n",
    "keyword_df[\"Gender\"] = gender_age_df[\"Gender\"]"
   ]
  },
  {
   "cell_type": "code",
   "execution_count": 402,
   "id": "e0f24b8e-7cc9-4518-a74e-4e4799031fd3",
   "metadata": {},
   "outputs": [],
   "source": [
    " \n",
    "fam = keyword_df[keyword_df[\"keyword\"] == 'strangers']"
   ]
  },
  {
   "cell_type": "code",
   "execution_count": 403,
   "id": "236be789-78c9-4be1-b6aa-c14ab94ecf56",
   "metadata": {},
   "outputs": [],
   "source": [
    "f_a = fam[fam[\"Gender\"]=='F'][\"Age\"]\n",
    "m_a =fam[fam[\"Gender\"]=='M'][\"Age\"]\n",
    "plt.boxplot([f_a ,m_a  ],positions=[1,2])\n",
    "plt.xticks([1,2],['F','M'])"
   ]
  },
  {
   "cell_type": "code",
   "execution_count": null,
   "id": "19c5eaa1-36b1-4941-b5e1-72dbec65ddeb",
   "metadata": {},
   "outputs": [],
   "source": [
    "a_no_a_column = fam[\"A no A\"].value_counts()\n",
    "boundary = fam[\"A no A\"].value_counts().loc['nta']\n",
    "# Display the column\n",
    "print(a_no_a_column)"
   ]
  },
  {
   "cell_type": "code",
   "execution_count": 428,
   "id": "a38be526-117e-4a03-9da9-a32e9b686c5d",
   "metadata": {},
   "outputs": [
    {
     "data": {
      "text/plain": [
       "30.0"
      ]
     },
     "execution_count": 428,
     "metadata": {},
     "output_type": "execute_result"
    }
   ],
   "source": [
    "keyword_df[keyword_df[\"keyword\"]==\"living\"][\"Age\"].max() - keyword_df[keyword_df[\"keyword\"]==\"living\"][\"Age\"].min()"
   ]
  }
 ],
 "metadata": {
  "kernelspec": {
   "display_name": "Python 3 (ipykernel)",
   "language": "python",
   "name": "python3"
  },
  "language_info": {
   "codemirror_mode": {
    "name": "ipython",
    "version": 3
   },
   "file_extension": ".py",
   "mimetype": "text/x-python",
   "name": "python",
   "nbconvert_exporter": "python",
   "pygments_lexer": "ipython3",
   "version": "3.12.4"
  }
 },
 "nbformat": 4,
 "nbformat_minor": 5
}
