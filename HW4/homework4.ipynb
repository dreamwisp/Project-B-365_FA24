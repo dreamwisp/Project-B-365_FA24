{
 "cells": [
  {
   "cell_type": "code",
   "execution_count": 1,
   "id": "35c092c0-b888-4887-9606-13261dd74c2f",
   "metadata": {},
   "outputs": [],
   "source": [
    "import pandas as pd \n",
    "import numpy as np"
   ]
  },
  {
   "cell_type": "code",
   "execution_count": 74,
   "id": "b9243e73-2356-433f-a377-d4975747cea1",
   "metadata": {},
   "outputs": [
    {
     "data": {
      "text/plain": [
       "0.47024952015355087"
      ]
     },
     "execution_count": 74,
     "metadata": {},
     "output_type": "execute_result"
    }
   ],
   "source": [
    "245/(276+245)"
   ]
  },
  {
   "cell_type": "code",
   "execution_count": 75,
   "id": "222b7386-cac6-4ab5-8645-09a846fe4b04",
   "metadata": {},
   "outputs": [
    {
     "data": {
      "text/plain": [
       "0.08333333333333333"
      ]
     },
     "execution_count": 75,
     "metadata": {},
     "output_type": "execute_result"
    }
   ],
   "source": [
    "3/36"
   ]
  },
  {
   "cell_type": "code",
   "execution_count": 76,
   "id": "dc08eaed-519b-44cc-a028-59673a1ec5f9",
   "metadata": {},
   "outputs": [
    {
     "data": {
      "text/plain": [
       "0.05555555555555555"
      ]
     },
     "execution_count": 76,
     "metadata": {},
     "output_type": "execute_result"
    }
   ],
   "source": [
    "1/18"
   ]
  },
  {
   "cell_type": "code",
   "execution_count": 80,
   "id": "17e8bf59-4e2d-4532-8232-dca683e3ca9e",
   "metadata": {
    "scrolled": true
   },
   "outputs": [],
   "source": [
    "data = pd.read_csv('titanic.csv')\n"
   ]
  },
  {
   "cell_type": "code",
   "execution_count": 85,
   "id": "07b0e213-e96b-40a2-b411-23183b585ae0",
   "metadata": {},
   "outputs": [
    {
     "data": {
      "text/html": [
       "<div>\n",
       "<style scoped>\n",
       "    .dataframe tbody tr th:only-of-type {\n",
       "        vertical-align: middle;\n",
       "    }\n",
       "\n",
       "    .dataframe tbody tr th {\n",
       "        vertical-align: top;\n",
       "    }\n",
       "\n",
       "    .dataframe thead th {\n",
       "        text-align: right;\n",
       "    }\n",
       "</style>\n",
       "<table border=\"1\" class=\"dataframe\">\n",
       "  <thead>\n",
       "    <tr style=\"text-align: right;\">\n",
       "      <th>Survived</th>\n",
       "      <th>0</th>\n",
       "      <th>1</th>\n",
       "    </tr>\n",
       "    <tr>\n",
       "      <th>Sex</th>\n",
       "      <th></th>\n",
       "      <th></th>\n",
       "    </tr>\n",
       "  </thead>\n",
       "  <tbody>\n",
       "    <tr>\n",
       "      <th>female</th>\n",
       "      <td>81</td>\n",
       "      <td>233</td>\n",
       "    </tr>\n",
       "    <tr>\n",
       "      <th>male</th>\n",
       "      <td>468</td>\n",
       "      <td>109</td>\n",
       "    </tr>\n",
       "  </tbody>\n",
       "</table>\n",
       "</div>"
      ],
      "text/plain": [
       "Survived    0    1\n",
       "Sex               \n",
       "female     81  233\n",
       "male      468  109"
      ]
     },
     "execution_count": 85,
     "metadata": {},
     "output_type": "execute_result"
    }
   ],
   "source": [
    "ct = pd.crosstab(data['Sex'], data['Survived'])\n",
    "ct"
   ]
  },
  {
   "cell_type": "markdown",
   "id": "360e0ada-abd2-40ee-8e40-8dba06cc4395",
   "metadata": {},
   "source": [
    "# Mosaic Plot"
   ]
  },
  {
   "cell_type": "markdown",
   "id": "5ca1ed5e-745a-495e-a3ed-fc2f059ff2cf",
   "metadata": {},
   "source": [
    "My theory: I think mosaic plots are very useful for visualizing P(X|Y), which is useful for K-means, in this case if it is female it would predict 1"
   ]
  },
  {
   "cell_type": "markdown",
   "id": "56cee680-6dc4-4c48-bfdc-e49e034e6cd5",
   "metadata": {},
   "source": [
    "Actual: Wrong! K-means clustering doesn't use probabilities like that it is an unspervised learning algorithm , this is more aligned with logistic regression or decisin trees\n",
    "Mosaic plots are useful for visualizing relationship between two categoricalv alues, contigency tables or prooortions but dont show the calculation of conditional probabilities\n",
    "kmeans groups data points vbased on distance "
   ]
  },
  {
   "cell_type": "markdown",
   "id": "f7bbd054-5e82-431a-a5da-2020913a1e2a",
   "metadata": {},
   "source": [
    "Mosaic plots can help etermine if data is dependent or independent, this is done by using chi-square test to determine association or dependency. Mosaic plots also show conditional distribution for example survived given female\n",
    "\n",
    "If there is a relaionship we would expect the the cnditional distribution to differ"
   ]
  },
  {
   "cell_type": "markdown",
   "id": "71e28576-c8b5-4600-a53d-742c5e5e3e73",
   "metadata": {},
   "source": [
    "Chi squared test canbe used to determine whether a relationship exosts "
   ]
  },
  {
   "cell_type": "code",
   "execution_count": 82,
   "id": "533a4bfe-6c58-481c-8c6e-041232c647de",
   "metadata": {},
   "outputs": [
    {
     "data": {
      "image/png": "[encoded data removed]",
      "text/plain": [
       "<Figure size 640x480 with 3 Axes>"
      ]
     },
     "metadata": {},
     "output_type": "display_data"
    }
   ],
   "source": [
    "import matplotlib.pyplot as plt\n",
    "from statsmodels.graphics.mosaicplot import mosaic\n",
    "mosaic(data, ['Sex', 'Survived'])\n",
    "plt.show()"
   ]
  },
  {
   "cell_type": "code",
   "execution_count": null,
   "id": "7dc97171-55d9-4408-bfe1-881b7b935130",
   "metadata": {},
   "outputs": [],
   "source": []
  },
  {
   "cell_type": "code",
   "execution_count": 30,
   "id": "99b87763-07e4-4365-b35b-ce4be2490c24",
   "metadata": {},
   "outputs": [
    {
     "name": "stdout",
     "output_type": "stream",
     "text": [
      "The dataset has 891 instances and 12 attributes.\n"
     ]
    }
   ],
   "source": [
    "print(f\"The dataset has {data.shape[0]} instances and {data.shape[1]} attributes.\")"
   ]
  },
  {
   "cell_type": "code",
   "execution_count": 12,
   "id": "d02b63f3-b1ea-4d9e-9c62-14378917d238",
   "metadata": {},
   "outputs": [
    {
     "name": "stdout",
     "output_type": "stream",
     "text": [
      "<class 'pandas.core.frame.DataFrame'>\n",
      "RangeIndex: 891 entries, 0 to 890\n",
      "Data columns (total 12 columns):\n",
      " #   Column       Non-Null Count  Dtype  \n",
      "---  ------       --------------  -----  \n",
      " 0   PassengerId  891 non-null    int64  \n",
      " 1   Survived     891 non-null    int64  \n",
      " 2   Pclass       891 non-null    int64  \n",
      " 3   Name         891 non-null    object \n",
      " 4   Sex          891 non-null    object \n",
      " 5   Age          714 non-null    float64\n",
      " 6   SibSp        891 non-null    int64  \n",
      " 7   Parch        891 non-null    int64  \n",
      " 8   Ticket       891 non-null    object \n",
      " 9   Fare         891 non-null    float64\n",
      " 10  Cabin        204 non-null    object \n",
      " 11  Embarked     889 non-null    object \n",
      "dtypes: float64(2), int64(5), object(5)\n",
      "memory usage: 83.7+ KB\n"
     ]
    }
   ],
   "source": [
    "data.info(verbose = True)"
   ]
  },
  {
   "cell_type": "code",
   "execution_count": 46,
   "id": "b31ba1d0-551d-49a2-bce2-0d107e1f416f",
   "metadata": {},
   "outputs": [
    {
     "name": "stdout",
     "output_type": "stream",
     "text": [
      "Age has 177 null values.\n",
      "Cabin has 687 null values.\n",
      "Embarked has 2 null values.\n"
     ]
    }
   ],
   "source": [
    "missing_values = []\n",
    "missing_col_names = []\n",
    "for column in data.columns:\n",
    "     \n",
    "    is_null_count = data[column].isnull().sum()\n",
    "    if is_null_count != 0:\n",
    "        missing_values.append(data[column])\n",
    "        missing_col_names.append(column)\n",
    "        print(f\"{column} has {is_null_count} null values.\")"
   ]
  },
  {
   "cell_type": "code",
   "execution_count": 50,
   "id": "eddd61e5-8847-43f2-899e-32e534a39a2b",
   "metadata": {},
   "outputs": [],
   "source": [
    "dic_data = {}\n",
    "for sublist, col_name in zip(missing_values, missing_col_names):\n",
    "    dic_data[col_name] = sublist\n",
    "    \n",
    "    "
   ]
  },
  {
   "cell_type": "markdown",
   "id": "bb71dcb4-dfb5-4560-93cd-e34b0718451b",
   "metadata": {},
   "source": [
    "## Handling Missing Values"
   ]
  },
  {
   "cell_type": "code",
   "execution_count": 48,
   "id": "f4cbdc11-c52e-4629-8605-01e3e9bd146b",
   "metadata": {},
   "outputs": [],
   "source": [
    "missing_values = pd.DataFrame(data=dic_data)\n",
    " "
   ]
  },
  {
   "cell_type": "code",
   "execution_count": 61,
   "id": "e7d12cde-1791-43e7-b033-43bab06b6149",
   "metadata": {},
   "outputs": [
    {
     "name": "stdout",
     "output_type": "stream",
     "text": [
      "['S' 'C' 'Q' nan]\n",
      "Age's unique's value 22.0 has 27 instances.\n",
      "Age's unique's value 38.0 has 11 instances.\n",
      "Age's unique's value 26.0 has 18 instances.\n",
      "Age's unique's value 35.0 has 18 instances.\n",
      "Age's unique's value nan has 0 instances.\n",
      "Age's unique's value 54.0 has 8 instances.\n",
      "Age's unique's value 2.0 has 10 instances.\n",
      "Age's unique's value 27.0 has 18 instances.\n",
      "Age's unique's value 14.0 has 6 instances.\n",
      "Age's unique's value 4.0 has 10 instances.\n",
      "Age's unique's value 58.0 has 5 instances.\n",
      "Age's unique's value 20.0 has 15 instances.\n",
      "Age's unique's value 39.0 has 14 instances.\n",
      "Age's unique's value 55.0 has 2 instances.\n",
      "Age's unique's value 31.0 has 17 instances.\n",
      "Age's unique's value 34.0 has 15 instances.\n",
      "Age's unique's value 15.0 has 5 instances.\n",
      "Age's unique's value 28.0 has 25 instances.\n",
      "Age's unique's value 8.0 has 4 instances.\n",
      "Age's unique's value 19.0 has 25 instances.\n",
      "Age's unique's value 40.0 has 13 instances.\n",
      "Age's unique's value 66.0 has 1 instances.\n",
      "Age's unique's value 42.0 has 13 instances.\n",
      "Age's unique's value 21.0 has 24 instances.\n",
      "Age's unique's value 18.0 has 26 instances.\n",
      "Age's unique's value 3.0 has 6 instances.\n",
      "Age's unique's value 7.0 has 3 instances.\n",
      "Age's unique's value 49.0 has 6 instances.\n",
      "Age's unique's value 29.0 has 20 instances.\n",
      "Age's unique's value 65.0 has 3 instances.\n",
      "Age's unique's value 28.5 has 2 instances.\n",
      "Age's unique's value 5.0 has 4 instances.\n",
      "Age's unique's value 11.0 has 4 instances.\n",
      "Age's unique's value 45.0 has 12 instances.\n",
      "Age's unique's value 17.0 has 13 instances.\n",
      "Age's unique's value 32.0 has 18 instances.\n",
      "Age's unique's value 16.0 has 17 instances.\n",
      "Age's unique's value 25.0 has 23 instances.\n",
      "Age's unique's value 0.83 has 2 instances.\n",
      "Age's unique's value 30.0 has 25 instances.\n",
      "Age's unique's value 33.0 has 15 instances.\n",
      "Age's unique's value 23.0 has 15 instances.\n",
      "Age's unique's value 24.0 has 30 instances.\n",
      "Age's unique's value 46.0 has 3 instances.\n",
      "Age's unique's value 59.0 has 2 instances.\n",
      "Age's unique's value 71.0 has 2 instances.\n",
      "Age's unique's value 37.0 has 6 instances.\n",
      "Age's unique's value 47.0 has 9 instances.\n",
      "Age's unique's value 14.5 has 1 instances.\n",
      "Age's unique's value 70.5 has 1 instances.\n",
      "Age's unique's value 32.5 has 2 instances.\n",
      "Age's unique's value 12.0 has 1 instances.\n",
      "Age's unique's value 9.0 has 8 instances.\n",
      "Age's unique's value 36.5 has 1 instances.\n",
      "Age's unique's value 51.0 has 7 instances.\n",
      "Age's unique's value 55.5 has 1 instances.\n",
      "Age's unique's value 40.5 has 2 instances.\n",
      "Age's unique's value 44.0 has 9 instances.\n",
      "Age's unique's value 1.0 has 7 instances.\n",
      "Age's unique's value 61.0 has 3 instances.\n",
      "Age's unique's value 56.0 has 4 instances.\n",
      "Age's unique's value 50.0 has 10 instances.\n",
      "Age's unique's value 36.0 has 22 instances.\n",
      "Age's unique's value 45.5 has 2 instances.\n",
      "Age's unique's value 20.5 has 1 instances.\n",
      "Age's unique's value 62.0 has 4 instances.\n",
      "Age's unique's value 41.0 has 6 instances.\n",
      "Age's unique's value 52.0 has 6 instances.\n",
      "Age's unique's value 63.0 has 2 instances.\n",
      "Age's unique's value 23.5 has 1 instances.\n",
      "Age's unique's value 0.92 has 1 instances.\n",
      "Age's unique's value 43.0 has 5 instances.\n",
      "Age's unique's value 60.0 has 4 instances.\n",
      "Age's unique's value 10.0 has 2 instances.\n",
      "Age's unique's value 64.0 has 2 instances.\n",
      "Age's unique's value 13.0 has 2 instances.\n",
      "Age's unique's value 48.0 has 9 instances.\n",
      "Age's unique's value 0.75 has 2 instances.\n",
      "Age's unique's value 53.0 has 1 instances.\n",
      "Age's unique's value 57.0 has 2 instances.\n",
      "Age's unique's value 80.0 has 1 instances.\n",
      "Age's unique's value 70.0 has 2 instances.\n",
      "Age's unique's value 24.5 has 1 instances.\n",
      "Age's unique's value 6.0 has 3 instances.\n",
      "Age's unique's value 0.67 has 1 instances.\n",
      "Age's unique's value 30.5 has 2 instances.\n",
      "Age's unique's value 0.42 has 1 instances.\n",
      "Age's unique's value 34.5 has 1 instances.\n",
      "Age's unique's value 74.0 has 1 instances.\n",
      "Cabin's unique's value nan has 0 instances.\n",
      "Cabin's unique's value C85 has 1 instances.\n",
      "Cabin's unique's value C123 has 2 instances.\n",
      "Cabin's unique's value E46 has 1 instances.\n",
      "Cabin's unique's value G6 has 4 instances.\n",
      "Cabin's unique's value C103 has 1 instances.\n",
      "Cabin's unique's value D56 has 1 instances.\n",
      "Cabin's unique's value A6 has 1 instances.\n",
      "Cabin's unique's value C23 C25 C27 has 4 instances.\n",
      "Cabin's unique's value B78 has 1 instances.\n",
      "Cabin's unique's value D33 has 2 instances.\n",
      "Cabin's unique's value B30 has 1 instances.\n",
      "Cabin's unique's value C52 has 2 instances.\n",
      "Cabin's unique's value B28 has 2 instances.\n",
      "Cabin's unique's value C83 has 2 instances.\n",
      "Cabin's unique's value F33 has 3 instances.\n",
      "Cabin's unique's value F G73 has 2 instances.\n",
      "Cabin's unique's value E31 has 1 instances.\n",
      "Cabin's unique's value A5 has 1 instances.\n",
      "Cabin's unique's value D10 D12 has 1 instances.\n",
      "Cabin's unique's value D26 has 2 instances.\n",
      "Cabin's unique's value C110 has 1 instances.\n",
      "Cabin's unique's value B58 B60 has 2 instances.\n",
      "Cabin's unique's value E101 has 3 instances.\n",
      "Cabin's unique's value F E69 has 1 instances.\n",
      "Cabin's unique's value D47 has 1 instances.\n",
      "Cabin's unique's value B86 has 1 instances.\n",
      "Cabin's unique's value F2 has 3 instances.\n",
      "Cabin's unique's value C2 has 2 instances.\n",
      "Cabin's unique's value E33 has 2 instances.\n",
      "Cabin's unique's value B19 has 1 instances.\n",
      "Cabin's unique's value A7 has 1 instances.\n",
      "Cabin's unique's value C49 has 1 instances.\n",
      "Cabin's unique's value F4 has 2 instances.\n",
      "Cabin's unique's value A32 has 1 instances.\n",
      "Cabin's unique's value B4 has 1 instances.\n",
      "Cabin's unique's value B80 has 1 instances.\n",
      "Cabin's unique's value A31 has 1 instances.\n",
      "Cabin's unique's value D36 has 2 instances.\n",
      "Cabin's unique's value D15 has 1 instances.\n",
      "Cabin's unique's value C93 has 2 instances.\n",
      "Cabin's unique's value C78 has 2 instances.\n",
      "Cabin's unique's value D35 has 2 instances.\n",
      "Cabin's unique's value C87 has 1 instances.\n",
      "Cabin's unique's value B77 has 2 instances.\n",
      "Cabin's unique's value E67 has 2 instances.\n",
      "Cabin's unique's value B94 has 1 instances.\n",
      "Cabin's unique's value C125 has 2 instances.\n",
      "Cabin's unique's value C99 has 1 instances.\n",
      "Cabin's unique's value C118 has 1 instances.\n",
      "Cabin's unique's value D7 has 1 instances.\n",
      "Cabin's unique's value A19 has 1 instances.\n",
      "Cabin's unique's value B49 has 2 instances.\n",
      "Cabin's unique's value D has 3 instances.\n",
      "Cabin's unique's value C22 C26 has 3 instances.\n",
      "Cabin's unique's value C106 has 1 instances.\n",
      "Cabin's unique's value C65 has 2 instances.\n",
      "Cabin's unique's value E36 has 1 instances.\n",
      "Cabin's unique's value C54 has 1 instances.\n",
      "Cabin's unique's value B57 B59 B63 B66 has 2 instances.\n",
      "Cabin's unique's value C7 has 1 instances.\n",
      "Cabin's unique's value E34 has 1 instances.\n",
      "Cabin's unique's value C32 has 1 instances.\n",
      "Cabin's unique's value B18 has 2 instances.\n",
      "Cabin's unique's value C124 has 2 instances.\n",
      "Cabin's unique's value C91 has 1 instances.\n",
      "Cabin's unique's value E40 has 1 instances.\n",
      "Cabin's unique's value T has 1 instances.\n",
      "Cabin's unique's value C128 has 1 instances.\n",
      "Cabin's unique's value D37 has 1 instances.\n",
      "Cabin's unique's value B35 has 2 instances.\n",
      "Cabin's unique's value E50 has 1 instances.\n",
      "Cabin's unique's value C82 has 1 instances.\n",
      "Cabin's unique's value B96 B98 has 4 instances.\n",
      "Cabin's unique's value E10 has 1 instances.\n",
      "Cabin's unique's value E44 has 2 instances.\n",
      "Cabin's unique's value A34 has 1 instances.\n",
      "Cabin's unique's value C104 has 1 instances.\n",
      "Cabin's unique's value C111 has 1 instances.\n",
      "Cabin's unique's value C92 has 2 instances.\n",
      "Cabin's unique's value E38 has 1 instances.\n",
      "Cabin's unique's value D21 has 1 instances.\n",
      "Cabin's unique's value E12 has 1 instances.\n",
      "Cabin's unique's value E63 has 1 instances.\n",
      "Cabin's unique's value A14 has 1 instances.\n",
      "Cabin's unique's value B37 has 1 instances.\n",
      "Cabin's unique's value C30 has 1 instances.\n",
      "Cabin's unique's value D20 has 2 instances.\n",
      "Cabin's unique's value B79 has 1 instances.\n",
      "Cabin's unique's value E25 has 2 instances.\n",
      "Cabin's unique's value D46 has 1 instances.\n",
      "Cabin's unique's value B73 has 1 instances.\n",
      "Cabin's unique's value C95 has 1 instances.\n",
      "Cabin's unique's value B38 has 1 instances.\n",
      "Cabin's unique's value B39 has 1 instances.\n",
      "Cabin's unique's value B22 has 2 instances.\n",
      "Cabin's unique's value C86 has 1 instances.\n",
      "Cabin's unique's value C70 has 1 instances.\n",
      "Cabin's unique's value A16 has 1 instances.\n",
      "Cabin's unique's value C101 has 1 instances.\n",
      "Cabin's unique's value C68 has 2 instances.\n",
      "Cabin's unique's value A10 has 1 instances.\n",
      "Cabin's unique's value E68 has 1 instances.\n",
      "Cabin's unique's value B41 has 1 instances.\n",
      "Cabin's unique's value A20 has 1 instances.\n",
      "Cabin's unique's value D19 has 1 instances.\n",
      "Cabin's unique's value D50 has 1 instances.\n",
      "Cabin's unique's value D9 has 1 instances.\n",
      "Cabin's unique's value A23 has 1 instances.\n",
      "Cabin's unique's value B50 has 1 instances.\n",
      "Cabin's unique's value A26 has 1 instances.\n",
      "Cabin's unique's value D48 has 1 instances.\n",
      "Cabin's unique's value E58 has 1 instances.\n",
      "Cabin's unique's value C126 has 2 instances.\n",
      "Cabin's unique's value B71 has 1 instances.\n",
      "Cabin's unique's value B51 B53 B55 has 2 instances.\n",
      "Cabin's unique's value D49 has 1 instances.\n",
      "Cabin's unique's value B5 has 2 instances.\n",
      "Cabin's unique's value B20 has 2 instances.\n",
      "Cabin's unique's value F G63 has 1 instances.\n",
      "Cabin's unique's value C62 C64 has 1 instances.\n",
      "Cabin's unique's value E24 has 2 instances.\n",
      "Cabin's unique's value C90 has 1 instances.\n",
      "Cabin's unique's value C45 has 1 instances.\n",
      "Cabin's unique's value E8 has 2 instances.\n",
      "Cabin's unique's value B101 has 1 instances.\n",
      "Cabin's unique's value D45 has 1 instances.\n",
      "Cabin's unique's value C46 has 1 instances.\n",
      "Cabin's unique's value D30 has 1 instances.\n",
      "Cabin's unique's value E121 has 2 instances.\n",
      "Cabin's unique's value D11 has 1 instances.\n",
      "Cabin's unique's value E77 has 1 instances.\n",
      "Cabin's unique's value F38 has 1 instances.\n",
      "Cabin's unique's value B3 has 1 instances.\n",
      "Cabin's unique's value D6 has 1 instances.\n",
      "Cabin's unique's value B82 B84 has 1 instances.\n",
      "Cabin's unique's value D17 has 2 instances.\n",
      "Cabin's unique's value A36 has 1 instances.\n",
      "Cabin's unique's value B102 has 1 instances.\n",
      "Cabin's unique's value B69 has 1 instances.\n",
      "Cabin's unique's value E49 has 1 instances.\n",
      "Cabin's unique's value C47 has 1 instances.\n",
      "Cabin's unique's value D28 has 1 instances.\n",
      "Cabin's unique's value E17 has 1 instances.\n",
      "Cabin's unique's value A24 has 1 instances.\n",
      "Cabin's unique's value C50 has 1 instances.\n",
      "Cabin's unique's value B42 has 1 instances.\n",
      "Cabin's unique's value C148 has 1 instances.\n",
      "Embarked's unique's value S has 644 instances.\n",
      "Embarked's unique's value C has 168 instances.\n",
      "Embarked's unique's value Q has 77 instances.\n",
      "Embarked's unique's value nan has 0 instances.\n"
     ]
    }
   ],
   "source": [
    "\n",
    "print(unique_missing_vals)\n",
    "for col_name in missing_col_names:\n",
    "    unique_missing_vals = missing_values[col_name].unique()\n",
    "    for val in unique_missing_vals:\n",
    "        val_counts = missing_values[missing_values[col_name] == val][col_name].count()\n",
    "        print(f\"{col_name}'s unique's value {val} has {val_counts} instances.\")"
   ]
  },
  {
   "cell_type": "code",
   "execution_count": 72,
   "id": "13e41715-89fc-4185-ba98-5bd477fe633d",
   "metadata": {},
   "outputs": [
    {
     "name": "stdout",
     "output_type": "stream",
     "text": [
      "S: 0.7227833894500562, C: 0.18855218855218855, Q: 0.08641975308641975\n",
      "S: 0.7244094488188977, C: 0.1889763779527559, Q: 0.08661417322834646\n",
      "s:  -0.002244668911335568\n"
     ]
    }
   ],
   "source": [
    "print(f\"S: {644/891}, C: {168/891}, Q: {77/891}\")\n",
    "print(f\"S: {644/889}, C: {168/889}, Q: {77/889}\")\n",
    "\n",
    "print(\"s: \",(644/891 +168/891+77/891)-(644/889 +168/889+77/889))\n"
   ]
  },
  {
   "cell_type": "code",
   "execution_count": 68,
   "id": "41e45ae2-33e2-4479-99d3-40e13f665119",
   "metadata": {},
   "outputs": [
    {
     "data": {
      "text/html": [
       "<div>\n",
       "<style scoped>\n",
       "    .dataframe tbody tr th:only-of-type {\n",
       "        vertical-align: middle;\n",
       "    }\n",
       "\n",
       "    .dataframe tbody tr th {\n",
       "        vertical-align: top;\n",
       "    }\n",
       "\n",
       "    .dataframe thead th {\n",
       "        text-align: right;\n",
       "    }\n",
       "</style>\n",
       "<table border=\"1\" class=\"dataframe\">\n",
       "  <thead>\n",
       "    <tr style=\"text-align: right;\">\n",
       "      <th></th>\n",
       "      <th>Age</th>\n",
       "      <th>Cabin</th>\n",
       "      <th>Embarked</th>\n",
       "    </tr>\n",
       "  </thead>\n",
       "  <tbody>\n",
       "  </tbody>\n",
       "</table>\n",
       "</div>"
      ],
      "text/plain": [
       "Empty DataFrame\n",
       "Columns: [Age, Cabin, Embarked]\n",
       "Index: []"
      ]
     },
     "execution_count": 68,
     "metadata": {},
     "output_type": "execute_result"
    }
   ],
   "source": [
    "missing_values[missing_values['Embarked'].isna()]"
   ]
  },
  {
   "cell_type": "code",
   "execution_count": 69,
   "id": "2ce21b3f-0343-4b5f-8582-a52ec8b8be6b",
   "metadata": {},
   "outputs": [
    {
     "data": {
      "text/html": [
       "<div>\n",
       "<style scoped>\n",
       "    .dataframe tbody tr th:only-of-type {\n",
       "        vertical-align: middle;\n",
       "    }\n",
       "\n",
       "    .dataframe tbody tr th {\n",
       "        vertical-align: top;\n",
       "    }\n",
       "\n",
       "    .dataframe thead th {\n",
       "        text-align: right;\n",
       "    }\n",
       "</style>\n",
       "<table border=\"1\" class=\"dataframe\">\n",
       "  <thead>\n",
       "    <tr style=\"text-align: right;\">\n",
       "      <th></th>\n",
       "      <th>Age</th>\n",
       "      <th>Cabin</th>\n",
       "      <th>Embarked</th>\n",
       "    </tr>\n",
       "  </thead>\n",
       "  <tbody>\n",
       "    <tr>\n",
       "      <th>61</th>\n",
       "      <td>38.0</td>\n",
       "      <td>B28</td>\n",
       "      <td>NaN</td>\n",
       "    </tr>\n",
       "    <tr>\n",
       "      <th>829</th>\n",
       "      <td>62.0</td>\n",
       "      <td>B28</td>\n",
       "      <td>NaN</td>\n",
       "    </tr>\n",
       "  </tbody>\n",
       "</table>\n",
       "</div>"
      ],
      "text/plain": [
       "      Age Cabin Embarked\n",
       "61   38.0   B28      NaN\n",
       "829  62.0   B28      NaN"
      ]
     },
     "execution_count": 69,
     "metadata": {},
     "output_type": "execute_result"
    }
   ],
   "source": [
    "missing_values[missing_values['Cabin'] == 'B28']"
   ]
  },
  {
   "cell_type": "code",
   "execution_count": null,
   "id": "c4cb1ebf-e810-4a7b-9c55-8b2539b597ab",
   "metadata": {},
   "outputs": [],
   "source": []
  }
 ],
 "metadata": {
  "kernelspec": {
   "display_name": "Python 3 (ipykernel)",
   "language": "python",
   "name": "python3"
  },
  "language_info": {
   "codemirror_mode": {
    "name": "ipython",
    "version": 3
   },
   "file_extension": ".py",
   "mimetype": "text/x-python",
   "name": "python",
   "nbconvert_exporter": "python",
   "pygments_lexer": "ipython3",
   "version": "3.12.4"
  }
 },
 "nbformat": 4,
 "nbformat_minor": 5
}
